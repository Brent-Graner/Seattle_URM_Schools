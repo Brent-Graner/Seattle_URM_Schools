{
 "cells": [
  {
   "cell_type": "code",
   "execution_count": 1,
   "metadata": {
    "collapsed": false
   },
   "outputs": [],
   "source": [
    "import numpy as num\n",
    "import pandas as pan\n",
    "%matplotlib inline\n",
    "import matplotlib.pyplot as plt "
   ]
  },
  {
   "cell_type": "code",
   "execution_count": 2,
   "metadata": {
    "collapsed": false
   },
   "outputs": [],
   "source": [
    "#Create a dataframe using Pandas read_csv()\n",
    "urm = pan.read_csv('C:/Users/brent/Downloads/Unreinforced_Masonry_Buildings.csv') "
   ]
  },
  {
   "cell_type": "code",
   "execution_count": 3,
   "metadata": {
    "collapsed": false
   },
   "outputs": [
    {
     "data": {
      "text/html": [
       "<div>\n",
       "<table border=\"1\" class=\"dataframe\">\n",
       "  <thead>\n",
       "    <tr style=\"text-align: right;\">\n",
       "      <th></th>\n",
       "      <th>Preliminary Risk Category</th>\n",
       "      <th>Neighborhood</th>\n",
       "      <th>Address</th>\n",
       "      <th>Year Built</th>\n",
       "      <th>No. Stories</th>\n",
       "      <th>Retrofit Level</th>\n",
       "      <th>Building Use</th>\n",
       "      <th>Estimated Number of Occupants</th>\n",
       "      <th>Confirmation Source</th>\n",
       "    </tr>\n",
       "  </thead>\n",
       "  <tbody>\n",
       "    <tr>\n",
       "      <th>0</th>\n",
       "      <td>Medium Risk</td>\n",
       "      <td>Pioneer Square/Chinatown International District</td>\n",
       "      <td>1 Yesler Way</td>\n",
       "      <td>1911</td>\n",
       "      <td>3</td>\n",
       "      <td>Permitted Retrofit</td>\n",
       "      <td>Commercial/Office</td>\n",
       "      <td>11-100</td>\n",
       "      <td>Google Street View</td>\n",
       "    </tr>\n",
       "    <tr>\n",
       "      <th>1</th>\n",
       "      <td>High Risk</td>\n",
       "      <td>Pioneer Square/Chinatown International District</td>\n",
       "      <td>100 6th Ave S</td>\n",
       "      <td>1903</td>\n",
       "      <td>5</td>\n",
       "      <td>Visible retrofit</td>\n",
       "      <td>Residential</td>\n",
       "      <td>11-100</td>\n",
       "      <td>Photos from Previous Surveys</td>\n",
       "    </tr>\n",
       "    <tr>\n",
       "      <th>2</th>\n",
       "      <td>High Risk</td>\n",
       "      <td>Duwamish/SODO</td>\n",
       "      <td>100 S King St</td>\n",
       "      <td>1907</td>\n",
       "      <td>6</td>\n",
       "      <td>Permitted Retrofit</td>\n",
       "      <td>Commercial/Office</td>\n",
       "      <td>101+</td>\n",
       "      <td>Field Visit</td>\n",
       "    </tr>\n",
       "    <tr>\n",
       "      <th>3</th>\n",
       "      <td>Medium Risk</td>\n",
       "      <td>Queen Anne</td>\n",
       "      <td>100 W Highland Dr</td>\n",
       "      <td>1921</td>\n",
       "      <td>4</td>\n",
       "      <td>No visible retrofit</td>\n",
       "      <td>Residential</td>\n",
       "      <td>101+</td>\n",
       "      <td>Google Street View</td>\n",
       "    </tr>\n",
       "    <tr>\n",
       "      <th>4</th>\n",
       "      <td>High Risk</td>\n",
       "      <td>Queen Anne</td>\n",
       "      <td>100 W Roy St</td>\n",
       "      <td>1912</td>\n",
       "      <td>3</td>\n",
       "      <td>Visible retrofit</td>\n",
       "      <td>Public Assembly</td>\n",
       "      <td>101+</td>\n",
       "      <td>Permit Drawing Review</td>\n",
       "    </tr>\n",
       "    <tr>\n",
       "      <th>5</th>\n",
       "      <td>High Risk</td>\n",
       "      <td>Duwamish/SODO</td>\n",
       "      <td>1000 1st Ave S</td>\n",
       "      <td>1910</td>\n",
       "      <td>6</td>\n",
       "      <td>Substantial Alteration</td>\n",
       "      <td>Commercial/Office</td>\n",
       "      <td>101+</td>\n",
       "      <td>Google Street View</td>\n",
       "    </tr>\n",
       "    <tr>\n",
       "      <th>6</th>\n",
       "      <td>Medium Risk</td>\n",
       "      <td>First Hill</td>\n",
       "      <td>1000 Madison St</td>\n",
       "      <td>1930</td>\n",
       "      <td>2</td>\n",
       "      <td>No visible retrofit</td>\n",
       "      <td>Commercial</td>\n",
       "      <td>11-100</td>\n",
       "      <td>Field Visit</td>\n",
       "    </tr>\n",
       "    <tr>\n",
       "      <th>7</th>\n",
       "      <td>Medium Risk</td>\n",
       "      <td>Miller Park</td>\n",
       "      <td>1000 Turner Way E</td>\n",
       "      <td>1910</td>\n",
       "      <td>1</td>\n",
       "      <td>No visible retrofit</td>\n",
       "      <td>Office</td>\n",
       "      <td>11-100</td>\n",
       "      <td>Google Street View</td>\n",
       "    </tr>\n",
       "    <tr>\n",
       "      <th>8</th>\n",
       "      <td>Medium Risk</td>\n",
       "      <td>Pioneer Square/Chinatown International District</td>\n",
       "      <td>1001 S Jackson St</td>\n",
       "      <td>1915</td>\n",
       "      <td>1</td>\n",
       "      <td>Permitted Retrofit</td>\n",
       "      <td>Commercial</td>\n",
       "      <td>11-100</td>\n",
       "      <td>Google Street View</td>\n",
       "    </tr>\n",
       "    <tr>\n",
       "      <th>9</th>\n",
       "      <td>Critical Risk</td>\n",
       "      <td>Capitol Hill</td>\n",
       "      <td>1002 E Seneca St</td>\n",
       "      <td>1922</td>\n",
       "      <td>1</td>\n",
       "      <td>Substantial Alteration</td>\n",
       "      <td>Schools</td>\n",
       "      <td>101+</td>\n",
       "      <td>Photos from Previous Surveys</td>\n",
       "    </tr>\n",
       "    <tr>\n",
       "      <th>10</th>\n",
       "      <td>Medium Risk</td>\n",
       "      <td>Duwamish/SODO</td>\n",
       "      <td>1003 6th Ave S</td>\n",
       "      <td>1928</td>\n",
       "      <td>2</td>\n",
       "      <td>Permitted Retrofit</td>\n",
       "      <td>Commercial</td>\n",
       "      <td>11-100</td>\n",
       "      <td>Google Street View</td>\n",
       "    </tr>\n",
       "    <tr>\n",
       "      <th>11</th>\n",
       "      <td>Medium Risk</td>\n",
       "      <td>Pioneer Square/Chinatown International District</td>\n",
       "      <td>1005 S King St</td>\n",
       "      <td>1914</td>\n",
       "      <td>1</td>\n",
       "      <td>No visible retrofit</td>\n",
       "      <td>Commercial</td>\n",
       "      <td>11-100</td>\n",
       "      <td>Google Street View</td>\n",
       "    </tr>\n",
       "    <tr>\n",
       "      <th>12</th>\n",
       "      <td>Medium Risk</td>\n",
       "      <td>First Hill</td>\n",
       "      <td>1005 Terry Ave</td>\n",
       "      <td>1908</td>\n",
       "      <td>7</td>\n",
       "      <td>No visible retrofit</td>\n",
       "      <td>Residential</td>\n",
       "      <td>101+</td>\n",
       "      <td>Google Street View</td>\n",
       "    </tr>\n",
       "    <tr>\n",
       "      <th>13</th>\n",
       "      <td>Medium Risk</td>\n",
       "      <td>First Hill</td>\n",
       "      <td>1006 Spring St</td>\n",
       "      <td>1928</td>\n",
       "      <td>10</td>\n",
       "      <td>No visible retrofit</td>\n",
       "      <td>Residential</td>\n",
       "      <td>101+</td>\n",
       "      <td>Field Visit</td>\n",
       "    </tr>\n",
       "    <tr>\n",
       "      <th>14</th>\n",
       "      <td>High Risk</td>\n",
       "      <td>Downtown</td>\n",
       "      <td>1007 1st Ave</td>\n",
       "      <td>1901</td>\n",
       "      <td>4</td>\n",
       "      <td>Visible retrofit</td>\n",
       "      <td>Commercial/Residential</td>\n",
       "      <td>101+</td>\n",
       "      <td>Google Street View-Rosettes</td>\n",
       "    </tr>\n",
       "    <tr>\n",
       "      <th>15</th>\n",
       "      <td>High Risk</td>\n",
       "      <td>Downtown</td>\n",
       "      <td>1008 Western Ave</td>\n",
       "      <td>1905</td>\n",
       "      <td>6</td>\n",
       "      <td>Visible retrofit</td>\n",
       "      <td>Commercial/Office</td>\n",
       "      <td>101+</td>\n",
       "      <td>Field Visit</td>\n",
       "    </tr>\n",
       "    <tr>\n",
       "      <th>16</th>\n",
       "      <td>Critical Risk</td>\n",
       "      <td>Queen Anne</td>\n",
       "      <td>101 W Lee St</td>\n",
       "      <td>1922</td>\n",
       "      <td>3</td>\n",
       "      <td>Permitted Retrofit</td>\n",
       "      <td>Schools</td>\n",
       "      <td>101+</td>\n",
       "      <td>Google Street View</td>\n",
       "    </tr>\n",
       "    <tr>\n",
       "      <th>17</th>\n",
       "      <td>Medium Risk</td>\n",
       "      <td>Downtown</td>\n",
       "      <td>1012 1st Ave</td>\n",
       "      <td>1900</td>\n",
       "      <td>5</td>\n",
       "      <td>Substantial Alteration</td>\n",
       "      <td>Commercial/Office</td>\n",
       "      <td>101+</td>\n",
       "      <td>Permit Drawing Review</td>\n",
       "    </tr>\n",
       "    <tr>\n",
       "      <th>18</th>\n",
       "      <td>High Risk</td>\n",
       "      <td>Duwamish/SODO</td>\n",
       "      <td>1014 1st Ave S</td>\n",
       "      <td>1907</td>\n",
       "      <td>4</td>\n",
       "      <td>Substantial Alteration</td>\n",
       "      <td>Commercial/Office</td>\n",
       "      <td>11-100</td>\n",
       "      <td>Google Street View</td>\n",
       "    </tr>\n",
       "    <tr>\n",
       "      <th>19</th>\n",
       "      <td>High Risk</td>\n",
       "      <td>Downtown</td>\n",
       "      <td>1015 1st Ave</td>\n",
       "      <td>1901</td>\n",
       "      <td>4</td>\n",
       "      <td>Visible retrofit</td>\n",
       "      <td>Commercial/Residential</td>\n",
       "      <td>101+</td>\n",
       "      <td>Google Street View-Rosettes</td>\n",
       "    </tr>\n",
       "    <tr>\n",
       "      <th>20</th>\n",
       "      <td>Medium Risk</td>\n",
       "      <td>First Hill</td>\n",
       "      <td>1016 Madison St</td>\n",
       "      <td>1929</td>\n",
       "      <td>1</td>\n",
       "      <td>No visible retrofit</td>\n",
       "      <td>Commercial</td>\n",
       "      <td>101+</td>\n",
       "      <td>Field Visit</td>\n",
       "    </tr>\n",
       "    <tr>\n",
       "      <th>21</th>\n",
       "      <td>Medium Risk</td>\n",
       "      <td>First Hill</td>\n",
       "      <td>1017 Boren Ave</td>\n",
       "      <td>1925</td>\n",
       "      <td>5</td>\n",
       "      <td>No visible retrofit</td>\n",
       "      <td>Residential</td>\n",
       "      <td>101+</td>\n",
       "      <td>Google Street View</td>\n",
       "    </tr>\n",
       "    <tr>\n",
       "      <th>22</th>\n",
       "      <td>Medium Risk</td>\n",
       "      <td>Downtown</td>\n",
       "      <td>1018 1st Ave</td>\n",
       "      <td>1890</td>\n",
       "      <td>5</td>\n",
       "      <td>Permitted Retrofit</td>\n",
       "      <td>Commercial/Office</td>\n",
       "      <td>101+</td>\n",
       "      <td>Google Street View</td>\n",
       "    </tr>\n",
       "    <tr>\n",
       "      <th>23</th>\n",
       "      <td>Medium Risk</td>\n",
       "      <td>First Hill</td>\n",
       "      <td>1018 9th Ave</td>\n",
       "      <td>1923</td>\n",
       "      <td>5</td>\n",
       "      <td>No visible retrofit</td>\n",
       "      <td>Residential</td>\n",
       "      <td>101+</td>\n",
       "      <td>Google Street View</td>\n",
       "    </tr>\n",
       "    <tr>\n",
       "      <th>24</th>\n",
       "      <td>Medium Risk</td>\n",
       "      <td>Pioneer Square/Chinatown International District</td>\n",
       "      <td>1019 S Jackson St</td>\n",
       "      <td>1932</td>\n",
       "      <td>2</td>\n",
       "      <td>No visible retrofit</td>\n",
       "      <td>Commercial/Office</td>\n",
       "      <td>11-100</td>\n",
       "      <td>Permit Drawing Review</td>\n",
       "    </tr>\n",
       "    <tr>\n",
       "      <th>25</th>\n",
       "      <td>Medium Risk</td>\n",
       "      <td>First Hill</td>\n",
       "      <td>1019 Terry Ave</td>\n",
       "      <td>1924</td>\n",
       "      <td>6</td>\n",
       "      <td>Permitted Retrofit</td>\n",
       "      <td>Residential</td>\n",
       "      <td>101+</td>\n",
       "      <td>Google Street View</td>\n",
       "    </tr>\n",
       "    <tr>\n",
       "      <th>26</th>\n",
       "      <td>Medium Risk</td>\n",
       "      <td>Pioneer Square/Chinatown International District</td>\n",
       "      <td>102 Occidental Ave S</td>\n",
       "      <td>1900</td>\n",
       "      <td>6</td>\n",
       "      <td>No visible retrofit</td>\n",
       "      <td>Commercial/Office</td>\n",
       "      <td>101+</td>\n",
       "      <td>Field Visit</td>\n",
       "    </tr>\n",
       "    <tr>\n",
       "      <th>27</th>\n",
       "      <td>Medium Risk</td>\n",
       "      <td>Capitol Hill</td>\n",
       "      <td>1020 E Denny Way</td>\n",
       "      <td>1907</td>\n",
       "      <td>3</td>\n",
       "      <td>No visible retrofit</td>\n",
       "      <td>Residential</td>\n",
       "      <td>11-100</td>\n",
       "      <td>Permit Drawing Review</td>\n",
       "    </tr>\n",
       "    <tr>\n",
       "      <th>28</th>\n",
       "      <td>Medium Risk</td>\n",
       "      <td>Northgate/Maple Leaf</td>\n",
       "      <td>1020 NE 82nd St</td>\n",
       "      <td>0</td>\n",
       "      <td>1</td>\n",
       "      <td>No visible retrofit</td>\n",
       "      <td>Government</td>\n",
       "      <td>1-10</td>\n",
       "      <td>NaN</td>\n",
       "    </tr>\n",
       "    <tr>\n",
       "      <th>29</th>\n",
       "      <td>Medium Risk</td>\n",
       "      <td>First Hill</td>\n",
       "      <td>1020 Seneca St</td>\n",
       "      <td>1925</td>\n",
       "      <td>6</td>\n",
       "      <td>No visible retrofit</td>\n",
       "      <td>Residential</td>\n",
       "      <td>101+</td>\n",
       "      <td>Google Street View</td>\n",
       "    </tr>\n",
       "    <tr>\n",
       "      <th>30</th>\n",
       "      <td>Critical Risk</td>\n",
       "      <td>Duwamish/SODO</td>\n",
       "      <td>1022 1st Ave S</td>\n",
       "      <td>1909</td>\n",
       "      <td>4</td>\n",
       "      <td>Permitted Retrofit</td>\n",
       "      <td>Schools</td>\n",
       "      <td>11-100</td>\n",
       "      <td>Google Street View</td>\n",
       "    </tr>\n",
       "    <tr>\n",
       "      <th>31</th>\n",
       "      <td>Medium Risk</td>\n",
       "      <td>Cedar Park/Meadowbrook</td>\n",
       "      <td>10228 Fisher Pl NE</td>\n",
       "      <td>1929</td>\n",
       "      <td>1</td>\n",
       "      <td>No visible retrofit</td>\n",
       "      <td>Commercial</td>\n",
       "      <td>11-100</td>\n",
       "      <td>Google Street View</td>\n",
       "    </tr>\n",
       "    <tr>\n",
       "      <th>32</th>\n",
       "      <td>High Risk</td>\n",
       "      <td>Downtown</td>\n",
       "      <td>1023 1st Ave</td>\n",
       "      <td>1901</td>\n",
       "      <td>6</td>\n",
       "      <td>Visible retrofit</td>\n",
       "      <td>Commercial/Residential</td>\n",
       "      <td>101+</td>\n",
       "      <td>Google Street View-Rosettes</td>\n",
       "    </tr>\n",
       "    <tr>\n",
       "      <th>33</th>\n",
       "      <td>High Risk</td>\n",
       "      <td>Cascade/Eastlake</td>\n",
       "      <td>1027 Bellevue Court E</td>\n",
       "      <td>1910</td>\n",
       "      <td>4</td>\n",
       "      <td>Permitted Retrofit</td>\n",
       "      <td>Residential</td>\n",
       "      <td>11-100</td>\n",
       "      <td>Photos from Previous Surveys</td>\n",
       "    </tr>\n",
       "    <tr>\n",
       "      <th>34</th>\n",
       "      <td>Medium Risk</td>\n",
       "      <td>Downtown</td>\n",
       "      <td>103 Pike St</td>\n",
       "      <td>1910</td>\n",
       "      <td>3</td>\n",
       "      <td>Substantial Alteration</td>\n",
       "      <td>Commercial/Residential</td>\n",
       "      <td>101+</td>\n",
       "      <td>Google Street View</td>\n",
       "    </tr>\n",
       "  </tbody>\n",
       "</table>\n",
       "</div>"
      ],
      "text/plain": [
       "   Preliminary Risk Category                                     Neighborhood  \\\n",
       "0                Medium Risk  Pioneer Square/Chinatown International District   \n",
       "1                  High Risk  Pioneer Square/Chinatown International District   \n",
       "2                  High Risk                                    Duwamish/SODO   \n",
       "3                Medium Risk                                       Queen Anne   \n",
       "4                  High Risk                                       Queen Anne   \n",
       "5                  High Risk                                    Duwamish/SODO   \n",
       "6                Medium Risk                                       First Hill   \n",
       "7                Medium Risk                                      Miller Park   \n",
       "8                Medium Risk  Pioneer Square/Chinatown International District   \n",
       "9              Critical Risk                                     Capitol Hill   \n",
       "10               Medium Risk                                    Duwamish/SODO   \n",
       "11               Medium Risk  Pioneer Square/Chinatown International District   \n",
       "12               Medium Risk                                       First Hill   \n",
       "13               Medium Risk                                       First Hill   \n",
       "14                 High Risk                                         Downtown   \n",
       "15                 High Risk                                         Downtown   \n",
       "16             Critical Risk                                       Queen Anne   \n",
       "17               Medium Risk                                         Downtown   \n",
       "18                 High Risk                                    Duwamish/SODO   \n",
       "19                 High Risk                                         Downtown   \n",
       "20               Medium Risk                                       First Hill   \n",
       "21               Medium Risk                                       First Hill   \n",
       "22               Medium Risk                                         Downtown   \n",
       "23               Medium Risk                                       First Hill   \n",
       "24               Medium Risk  Pioneer Square/Chinatown International District   \n",
       "25               Medium Risk                                       First Hill   \n",
       "26               Medium Risk  Pioneer Square/Chinatown International District   \n",
       "27               Medium Risk                                     Capitol Hill   \n",
       "28               Medium Risk                             Northgate/Maple Leaf   \n",
       "29               Medium Risk                                       First Hill   \n",
       "30             Critical Risk                                    Duwamish/SODO   \n",
       "31               Medium Risk                           Cedar Park/Meadowbrook   \n",
       "32                 High Risk                                         Downtown   \n",
       "33                 High Risk                                 Cascade/Eastlake   \n",
       "34               Medium Risk                                         Downtown   \n",
       "\n",
       "                  Address  Year Built  No. Stories          Retrofit Level  \\\n",
       "0            1 Yesler Way        1911            3      Permitted Retrofit   \n",
       "1           100 6th Ave S        1903            5        Visible retrofit   \n",
       "2           100 S King St        1907            6      Permitted Retrofit   \n",
       "3       100 W Highland Dr        1921            4     No visible retrofit   \n",
       "4            100 W Roy St        1912            3        Visible retrofit   \n",
       "5          1000 1st Ave S        1910            6  Substantial Alteration   \n",
       "6         1000 Madison St        1930            2     No visible retrofit   \n",
       "7       1000 Turner Way E        1910            1     No visible retrofit   \n",
       "8       1001 S Jackson St        1915            1      Permitted Retrofit   \n",
       "9        1002 E Seneca St        1922            1  Substantial Alteration   \n",
       "10         1003 6th Ave S        1928            2      Permitted Retrofit   \n",
       "11         1005 S King St        1914            1     No visible retrofit   \n",
       "12         1005 Terry Ave        1908            7     No visible retrofit   \n",
       "13         1006 Spring St        1928           10     No visible retrofit   \n",
       "14           1007 1st Ave        1901            4        Visible retrofit   \n",
       "15       1008 Western Ave        1905            6        Visible retrofit   \n",
       "16           101 W Lee St        1922            3      Permitted Retrofit   \n",
       "17           1012 1st Ave        1900            5  Substantial Alteration   \n",
       "18         1014 1st Ave S        1907            4  Substantial Alteration   \n",
       "19           1015 1st Ave        1901            4        Visible retrofit   \n",
       "20        1016 Madison St        1929            1     No visible retrofit   \n",
       "21         1017 Boren Ave        1925            5     No visible retrofit   \n",
       "22           1018 1st Ave        1890            5      Permitted Retrofit   \n",
       "23           1018 9th Ave        1923            5     No visible retrofit   \n",
       "24      1019 S Jackson St        1932            2     No visible retrofit   \n",
       "25         1019 Terry Ave        1924            6      Permitted Retrofit   \n",
       "26   102 Occidental Ave S        1900            6     No visible retrofit   \n",
       "27       1020 E Denny Way        1907            3     No visible retrofit   \n",
       "28        1020 NE 82nd St           0            1     No visible retrofit   \n",
       "29         1020 Seneca St        1925            6     No visible retrofit   \n",
       "30         1022 1st Ave S        1909            4      Permitted Retrofit   \n",
       "31     10228 Fisher Pl NE        1929            1     No visible retrofit   \n",
       "32           1023 1st Ave        1901            6        Visible retrofit   \n",
       "33  1027 Bellevue Court E        1910            4      Permitted Retrofit   \n",
       "34            103 Pike St        1910            3  Substantial Alteration   \n",
       "\n",
       "              Building Use Estimated Number of Occupants  \\\n",
       "0        Commercial/Office                        11-100   \n",
       "1              Residential                        11-100   \n",
       "2        Commercial/Office                          101+   \n",
       "3              Residential                          101+   \n",
       "4          Public Assembly                          101+   \n",
       "5        Commercial/Office                          101+   \n",
       "6               Commercial                        11-100   \n",
       "7                   Office                        11-100   \n",
       "8               Commercial                        11-100   \n",
       "9                  Schools                          101+   \n",
       "10              Commercial                        11-100   \n",
       "11              Commercial                        11-100   \n",
       "12             Residential                          101+   \n",
       "13             Residential                          101+   \n",
       "14  Commercial/Residential                          101+   \n",
       "15       Commercial/Office                          101+   \n",
       "16                 Schools                          101+   \n",
       "17       Commercial/Office                          101+   \n",
       "18       Commercial/Office                        11-100   \n",
       "19  Commercial/Residential                          101+   \n",
       "20              Commercial                          101+   \n",
       "21             Residential                          101+   \n",
       "22       Commercial/Office                          101+   \n",
       "23             Residential                          101+   \n",
       "24       Commercial/Office                        11-100   \n",
       "25             Residential                          101+   \n",
       "26       Commercial/Office                          101+   \n",
       "27             Residential                        11-100   \n",
       "28              Government                          1-10   \n",
       "29             Residential                          101+   \n",
       "30                 Schools                        11-100   \n",
       "31              Commercial                        11-100   \n",
       "32  Commercial/Residential                          101+   \n",
       "33             Residential                        11-100   \n",
       "34  Commercial/Residential                          101+   \n",
       "\n",
       "             Confirmation Source  \n",
       "0             Google Street View  \n",
       "1   Photos from Previous Surveys  \n",
       "2                    Field Visit  \n",
       "3             Google Street View  \n",
       "4          Permit Drawing Review  \n",
       "5             Google Street View  \n",
       "6                    Field Visit  \n",
       "7             Google Street View  \n",
       "8             Google Street View  \n",
       "9   Photos from Previous Surveys  \n",
       "10            Google Street View  \n",
       "11            Google Street View  \n",
       "12            Google Street View  \n",
       "13                   Field Visit  \n",
       "14   Google Street View-Rosettes  \n",
       "15                   Field Visit  \n",
       "16            Google Street View  \n",
       "17         Permit Drawing Review  \n",
       "18            Google Street View  \n",
       "19   Google Street View-Rosettes  \n",
       "20                   Field Visit  \n",
       "21            Google Street View  \n",
       "22            Google Street View  \n",
       "23            Google Street View  \n",
       "24         Permit Drawing Review  \n",
       "25            Google Street View  \n",
       "26                   Field Visit  \n",
       "27         Permit Drawing Review  \n",
       "28                           NaN  \n",
       "29            Google Street View  \n",
       "30            Google Street View  \n",
       "31            Google Street View  \n",
       "32   Google Street View-Rosettes  \n",
       "33  Photos from Previous Surveys  \n",
       "34            Google Street View  "
      ]
     },
     "execution_count": 3,
     "metadata": {},
     "output_type": "execute_result"
    }
   ],
   "source": [
    "urm.head(35) #Let's take a flying look at the top 35 lines in the dataset."
   ]
  },
  {
   "cell_type": "code",
   "execution_count": null,
   "metadata": {
    "collapsed": true
   },
   "outputs": [],
   "source": [
    "#Browsing the data, we can see that there are 3 risk categories: 'Medium' risk, 'High' risk, and 'Critical' risk. There are multiple 'Building Use' categories including Commercial, Residential, Public Assembly, Office buildings, and Schools. Within our sample, note that all of the 'Critical' buildings are schools, and vice versa."
   ]
  },
  {
   "cell_type": "code",
   "execution_count": 4,
   "metadata": {
    "collapsed": false
   },
   "outputs": [
    {
     "data": {
      "text/plain": [
       "Commercial                341\n",
       "Residential               185\n",
       "Commercial/Residential    144\n",
       "Commercial/Office         138\n",
       "Public Assembly           123\n",
       "Schools                    75\n",
       "Office                     59\n",
       "Other Mixed Uses           28\n",
       "Government                 27\n",
       "Industrial                 25\n",
       "Vacant                      5\n",
       "Emergency                   1\n",
       "Name: Building Use, dtype: int64"
      ]
     },
     "execution_count": 4,
     "metadata": {},
     "output_type": "execute_result"
    }
   ],
   "source": [
    "#Checking out the list of categories each building can fall into:\n",
    "urm['Building Use'].value_counts()"
   ]
  },
  {
   "cell_type": "code",
   "execution_count": 5,
   "metadata": {
    "collapsed": false,
    "scrolled": false
   },
   "outputs": [
    {
     "data": {
      "text/html": [
       "<div>\n",
       "<table border=\"1\" class=\"dataframe\">\n",
       "  <thead>\n",
       "    <tr style=\"text-align: right;\">\n",
       "      <th></th>\n",
       "      <th>Preliminary Risk Category</th>\n",
       "      <th>Building Use</th>\n",
       "      <th>Retrofit Level</th>\n",
       "    </tr>\n",
       "  </thead>\n",
       "  <tbody>\n",
       "    <tr>\n",
       "      <th>9</th>\n",
       "      <td>Critical Risk</td>\n",
       "      <td>Schools</td>\n",
       "      <td>Substantial Alteration</td>\n",
       "    </tr>\n",
       "    <tr>\n",
       "      <th>16</th>\n",
       "      <td>Critical Risk</td>\n",
       "      <td>Schools</td>\n",
       "      <td>Permitted Retrofit</td>\n",
       "    </tr>\n",
       "    <tr>\n",
       "      <th>30</th>\n",
       "      <td>Critical Risk</td>\n",
       "      <td>Schools</td>\n",
       "      <td>Permitted Retrofit</td>\n",
       "    </tr>\n",
       "    <tr>\n",
       "      <th>47</th>\n",
       "      <td>Critical Risk</td>\n",
       "      <td>Schools</td>\n",
       "      <td>Permitted Retrofit</td>\n",
       "    </tr>\n",
       "    <tr>\n",
       "      <th>71</th>\n",
       "      <td>Critical Risk</td>\n",
       "      <td>Schools</td>\n",
       "      <td>No visible retrofit</td>\n",
       "    </tr>\n",
       "    <tr>\n",
       "      <th>102</th>\n",
       "      <td>Critical Risk</td>\n",
       "      <td>Schools</td>\n",
       "      <td>Permitted Retrofit</td>\n",
       "    </tr>\n",
       "    <tr>\n",
       "      <th>103</th>\n",
       "      <td>Critical Risk</td>\n",
       "      <td>Schools</td>\n",
       "      <td>Substantial Alteration</td>\n",
       "    </tr>\n",
       "    <tr>\n",
       "      <th>136</th>\n",
       "      <td>Critical Risk</td>\n",
       "      <td>Schools</td>\n",
       "      <td>Substantial Alteration</td>\n",
       "    </tr>\n",
       "    <tr>\n",
       "      <th>177</th>\n",
       "      <td>Critical Risk</td>\n",
       "      <td>Schools</td>\n",
       "      <td>Permitted Retrofit</td>\n",
       "    </tr>\n",
       "    <tr>\n",
       "      <th>179</th>\n",
       "      <td>Critical Risk</td>\n",
       "      <td>Schools</td>\n",
       "      <td>No visible retrofit</td>\n",
       "    </tr>\n",
       "    <tr>\n",
       "      <th>188</th>\n",
       "      <td>Critical Risk</td>\n",
       "      <td>Schools</td>\n",
       "      <td>Permitted Retrofit</td>\n",
       "    </tr>\n",
       "    <tr>\n",
       "      <th>194</th>\n",
       "      <td>Critical Risk</td>\n",
       "      <td>Schools</td>\n",
       "      <td>Permitted Retrofit</td>\n",
       "    </tr>\n",
       "    <tr>\n",
       "      <th>199</th>\n",
       "      <td>Critical Risk</td>\n",
       "      <td>Schools</td>\n",
       "      <td>Permitted Retrofit</td>\n",
       "    </tr>\n",
       "    <tr>\n",
       "      <th>252</th>\n",
       "      <td>Critical Risk</td>\n",
       "      <td>Schools</td>\n",
       "      <td>Permitted Retrofit</td>\n",
       "    </tr>\n",
       "    <tr>\n",
       "      <th>254</th>\n",
       "      <td>Critical Risk</td>\n",
       "      <td>Schools</td>\n",
       "      <td>Permitted Retrofit</td>\n",
       "    </tr>\n",
       "    <tr>\n",
       "      <th>281</th>\n",
       "      <td>Critical Risk</td>\n",
       "      <td>Schools</td>\n",
       "      <td>Visible retrofit</td>\n",
       "    </tr>\n",
       "    <tr>\n",
       "      <th>294</th>\n",
       "      <td>Critical Risk</td>\n",
       "      <td>Schools</td>\n",
       "      <td>Permitted Retrofit</td>\n",
       "    </tr>\n",
       "    <tr>\n",
       "      <th>310</th>\n",
       "      <td>Critical Risk</td>\n",
       "      <td>Schools</td>\n",
       "      <td>Visible retrofit</td>\n",
       "    </tr>\n",
       "    <tr>\n",
       "      <th>358</th>\n",
       "      <td>Critical Risk</td>\n",
       "      <td>Schools</td>\n",
       "      <td>No visible retrofit</td>\n",
       "    </tr>\n",
       "    <tr>\n",
       "      <th>376</th>\n",
       "      <td>Critical Risk</td>\n",
       "      <td>Schools</td>\n",
       "      <td>Substantial Alteration</td>\n",
       "    </tr>\n",
       "    <tr>\n",
       "      <th>467</th>\n",
       "      <td>Critical Risk</td>\n",
       "      <td>Schools</td>\n",
       "      <td>Substantial Alteration</td>\n",
       "    </tr>\n",
       "    <tr>\n",
       "      <th>485</th>\n",
       "      <td>Critical Risk</td>\n",
       "      <td>Schools</td>\n",
       "      <td>Substantial Alteration</td>\n",
       "    </tr>\n",
       "    <tr>\n",
       "      <th>486</th>\n",
       "      <td>Critical Risk</td>\n",
       "      <td>Schools</td>\n",
       "      <td>Permitted Retrofit</td>\n",
       "    </tr>\n",
       "    <tr>\n",
       "      <th>494</th>\n",
       "      <td>Critical Risk</td>\n",
       "      <td>Schools</td>\n",
       "      <td>Substantial Alteration</td>\n",
       "    </tr>\n",
       "    <tr>\n",
       "      <th>497</th>\n",
       "      <td>Critical Risk</td>\n",
       "      <td>Schools</td>\n",
       "      <td>Permitted Retrofit</td>\n",
       "    </tr>\n",
       "    <tr>\n",
       "      <th>509</th>\n",
       "      <td>Critical Risk</td>\n",
       "      <td>Schools</td>\n",
       "      <td>No visible retrofit</td>\n",
       "    </tr>\n",
       "    <tr>\n",
       "      <th>524</th>\n",
       "      <td>Critical Risk</td>\n",
       "      <td>Schools</td>\n",
       "      <td>Substantial Alteration</td>\n",
       "    </tr>\n",
       "    <tr>\n",
       "      <th>526</th>\n",
       "      <td>Critical Risk</td>\n",
       "      <td>Schools</td>\n",
       "      <td>Permitted Retrofit</td>\n",
       "    </tr>\n",
       "    <tr>\n",
       "      <th>529</th>\n",
       "      <td>Critical Risk</td>\n",
       "      <td>Schools</td>\n",
       "      <td>Substantial Alteration</td>\n",
       "    </tr>\n",
       "    <tr>\n",
       "      <th>532</th>\n",
       "      <td>Critical Risk</td>\n",
       "      <td>Schools</td>\n",
       "      <td>Permitted Retrofit</td>\n",
       "    </tr>\n",
       "    <tr>\n",
       "      <th>...</th>\n",
       "      <td>...</td>\n",
       "      <td>...</td>\n",
       "      <td>...</td>\n",
       "    </tr>\n",
       "    <tr>\n",
       "      <th>708</th>\n",
       "      <td>Critical Risk</td>\n",
       "      <td>Schools</td>\n",
       "      <td>Permitted Retrofit</td>\n",
       "    </tr>\n",
       "    <tr>\n",
       "      <th>710</th>\n",
       "      <td>Critical Risk</td>\n",
       "      <td>Schools</td>\n",
       "      <td>No visible retrofit</td>\n",
       "    </tr>\n",
       "    <tr>\n",
       "      <th>719</th>\n",
       "      <td>Critical Risk</td>\n",
       "      <td>Schools</td>\n",
       "      <td>Permitted Retrofit</td>\n",
       "    </tr>\n",
       "    <tr>\n",
       "      <th>739</th>\n",
       "      <td>Critical Risk</td>\n",
       "      <td>Schools</td>\n",
       "      <td>Permitted Retrofit</td>\n",
       "    </tr>\n",
       "    <tr>\n",
       "      <th>743</th>\n",
       "      <td>Critical Risk</td>\n",
       "      <td>Schools</td>\n",
       "      <td>Permitted Retrofit</td>\n",
       "    </tr>\n",
       "    <tr>\n",
       "      <th>756</th>\n",
       "      <td>Critical Risk</td>\n",
       "      <td>Schools</td>\n",
       "      <td>Permitted Retrofit</td>\n",
       "    </tr>\n",
       "    <tr>\n",
       "      <th>774</th>\n",
       "      <td>Critical Risk</td>\n",
       "      <td>Schools</td>\n",
       "      <td>Permitted Retrofit</td>\n",
       "    </tr>\n",
       "    <tr>\n",
       "      <th>783</th>\n",
       "      <td>Critical Risk</td>\n",
       "      <td>Schools</td>\n",
       "      <td>Substantial Alteration</td>\n",
       "    </tr>\n",
       "    <tr>\n",
       "      <th>812</th>\n",
       "      <td>Critical Risk</td>\n",
       "      <td>Schools</td>\n",
       "      <td>Permitted Retrofit</td>\n",
       "    </tr>\n",
       "    <tr>\n",
       "      <th>830</th>\n",
       "      <td>Critical Risk</td>\n",
       "      <td>Schools</td>\n",
       "      <td>Permitted Retrofit</td>\n",
       "    </tr>\n",
       "    <tr>\n",
       "      <th>832</th>\n",
       "      <td>Critical Risk</td>\n",
       "      <td>Schools</td>\n",
       "      <td>No visible retrofit</td>\n",
       "    </tr>\n",
       "    <tr>\n",
       "      <th>839</th>\n",
       "      <td>Critical Risk</td>\n",
       "      <td>Schools</td>\n",
       "      <td>No visible retrofit</td>\n",
       "    </tr>\n",
       "    <tr>\n",
       "      <th>888</th>\n",
       "      <td>Critical Risk</td>\n",
       "      <td>Schools</td>\n",
       "      <td>Permitted Retrofit</td>\n",
       "    </tr>\n",
       "    <tr>\n",
       "      <th>901</th>\n",
       "      <td>Critical Risk</td>\n",
       "      <td>Schools</td>\n",
       "      <td>Permitted Retrofit</td>\n",
       "    </tr>\n",
       "    <tr>\n",
       "      <th>953</th>\n",
       "      <td>Critical Risk</td>\n",
       "      <td>Schools</td>\n",
       "      <td>Permitted Retrofit</td>\n",
       "    </tr>\n",
       "    <tr>\n",
       "      <th>955</th>\n",
       "      <td>Critical Risk</td>\n",
       "      <td>Schools</td>\n",
       "      <td>Permitted Retrofit</td>\n",
       "    </tr>\n",
       "    <tr>\n",
       "      <th>960</th>\n",
       "      <td>Critical Risk</td>\n",
       "      <td>Schools</td>\n",
       "      <td>Permitted Retrofit</td>\n",
       "    </tr>\n",
       "    <tr>\n",
       "      <th>979</th>\n",
       "      <td>Critical Risk</td>\n",
       "      <td>Schools</td>\n",
       "      <td>No visible retrofit</td>\n",
       "    </tr>\n",
       "    <tr>\n",
       "      <th>1002</th>\n",
       "      <td>Critical Risk</td>\n",
       "      <td>Schools</td>\n",
       "      <td>No visible retrofit</td>\n",
       "    </tr>\n",
       "    <tr>\n",
       "      <th>1019</th>\n",
       "      <td>Critical Risk</td>\n",
       "      <td>Schools</td>\n",
       "      <td>Permitted Retrofit</td>\n",
       "    </tr>\n",
       "    <tr>\n",
       "      <th>1022</th>\n",
       "      <td>Critical Risk</td>\n",
       "      <td>Schools</td>\n",
       "      <td>Permitted Retrofit</td>\n",
       "    </tr>\n",
       "    <tr>\n",
       "      <th>1047</th>\n",
       "      <td>Critical Risk</td>\n",
       "      <td>Schools</td>\n",
       "      <td>Permitted Retrofit</td>\n",
       "    </tr>\n",
       "    <tr>\n",
       "      <th>1052</th>\n",
       "      <td>Critical Risk</td>\n",
       "      <td>Schools</td>\n",
       "      <td>No visible retrofit</td>\n",
       "    </tr>\n",
       "    <tr>\n",
       "      <th>1073</th>\n",
       "      <td>Critical Risk</td>\n",
       "      <td>Schools</td>\n",
       "      <td>Permitted Retrofit</td>\n",
       "    </tr>\n",
       "    <tr>\n",
       "      <th>1124</th>\n",
       "      <td>Critical Risk</td>\n",
       "      <td>Schools</td>\n",
       "      <td>Permitted Retrofit</td>\n",
       "    </tr>\n",
       "    <tr>\n",
       "      <th>1126</th>\n",
       "      <td>Critical Risk</td>\n",
       "      <td>Schools</td>\n",
       "      <td>Substantial Alteration</td>\n",
       "    </tr>\n",
       "    <tr>\n",
       "      <th>1129</th>\n",
       "      <td>Critical Risk</td>\n",
       "      <td>Schools</td>\n",
       "      <td>Permitted Retrofit</td>\n",
       "    </tr>\n",
       "    <tr>\n",
       "      <th>1138</th>\n",
       "      <td>Critical Risk</td>\n",
       "      <td>Schools</td>\n",
       "      <td>Permitted Retrofit</td>\n",
       "    </tr>\n",
       "    <tr>\n",
       "      <th>1148</th>\n",
       "      <td>Critical Risk</td>\n",
       "      <td>Schools</td>\n",
       "      <td>Permitted Retrofit</td>\n",
       "    </tr>\n",
       "    <tr>\n",
       "      <th>1150</th>\n",
       "      <td>Critical Risk</td>\n",
       "      <td>Schools</td>\n",
       "      <td>No visible retrofit</td>\n",
       "    </tr>\n",
       "  </tbody>\n",
       "</table>\n",
       "<p>75 rows × 3 columns</p>\n",
       "</div>"
      ],
      "text/plain": [
       "     Preliminary Risk Category Building Use          Retrofit Level\n",
       "9                Critical Risk      Schools  Substantial Alteration\n",
       "16               Critical Risk      Schools      Permitted Retrofit\n",
       "30               Critical Risk      Schools      Permitted Retrofit\n",
       "47               Critical Risk      Schools      Permitted Retrofit\n",
       "71               Critical Risk      Schools     No visible retrofit\n",
       "102              Critical Risk      Schools      Permitted Retrofit\n",
       "103              Critical Risk      Schools  Substantial Alteration\n",
       "136              Critical Risk      Schools  Substantial Alteration\n",
       "177              Critical Risk      Schools      Permitted Retrofit\n",
       "179              Critical Risk      Schools     No visible retrofit\n",
       "188              Critical Risk      Schools      Permitted Retrofit\n",
       "194              Critical Risk      Schools      Permitted Retrofit\n",
       "199              Critical Risk      Schools      Permitted Retrofit\n",
       "252              Critical Risk      Schools      Permitted Retrofit\n",
       "254              Critical Risk      Schools      Permitted Retrofit\n",
       "281              Critical Risk      Schools        Visible retrofit\n",
       "294              Critical Risk      Schools      Permitted Retrofit\n",
       "310              Critical Risk      Schools        Visible retrofit\n",
       "358              Critical Risk      Schools     No visible retrofit\n",
       "376              Critical Risk      Schools  Substantial Alteration\n",
       "467              Critical Risk      Schools  Substantial Alteration\n",
       "485              Critical Risk      Schools  Substantial Alteration\n",
       "486              Critical Risk      Schools      Permitted Retrofit\n",
       "494              Critical Risk      Schools  Substantial Alteration\n",
       "497              Critical Risk      Schools      Permitted Retrofit\n",
       "509              Critical Risk      Schools     No visible retrofit\n",
       "524              Critical Risk      Schools  Substantial Alteration\n",
       "526              Critical Risk      Schools      Permitted Retrofit\n",
       "529              Critical Risk      Schools  Substantial Alteration\n",
       "532              Critical Risk      Schools      Permitted Retrofit\n",
       "...                        ...          ...                     ...\n",
       "708              Critical Risk      Schools      Permitted Retrofit\n",
       "710              Critical Risk      Schools     No visible retrofit\n",
       "719              Critical Risk      Schools      Permitted Retrofit\n",
       "739              Critical Risk      Schools      Permitted Retrofit\n",
       "743              Critical Risk      Schools      Permitted Retrofit\n",
       "756              Critical Risk      Schools      Permitted Retrofit\n",
       "774              Critical Risk      Schools      Permitted Retrofit\n",
       "783              Critical Risk      Schools  Substantial Alteration\n",
       "812              Critical Risk      Schools      Permitted Retrofit\n",
       "830              Critical Risk      Schools      Permitted Retrofit\n",
       "832              Critical Risk      Schools     No visible retrofit\n",
       "839              Critical Risk      Schools     No visible retrofit\n",
       "888              Critical Risk      Schools      Permitted Retrofit\n",
       "901              Critical Risk      Schools      Permitted Retrofit\n",
       "953              Critical Risk      Schools      Permitted Retrofit\n",
       "955              Critical Risk      Schools      Permitted Retrofit\n",
       "960              Critical Risk      Schools      Permitted Retrofit\n",
       "979              Critical Risk      Schools     No visible retrofit\n",
       "1002             Critical Risk      Schools     No visible retrofit\n",
       "1019             Critical Risk      Schools      Permitted Retrofit\n",
       "1022             Critical Risk      Schools      Permitted Retrofit\n",
       "1047             Critical Risk      Schools      Permitted Retrofit\n",
       "1052             Critical Risk      Schools     No visible retrofit\n",
       "1073             Critical Risk      Schools      Permitted Retrofit\n",
       "1124             Critical Risk      Schools      Permitted Retrofit\n",
       "1126             Critical Risk      Schools  Substantial Alteration\n",
       "1129             Critical Risk      Schools      Permitted Retrofit\n",
       "1138             Critical Risk      Schools      Permitted Retrofit\n",
       "1148             Critical Risk      Schools      Permitted Retrofit\n",
       "1150             Critical Risk      Schools     No visible retrofit\n",
       "\n",
       "[75 rows x 3 columns]"
      ]
     },
     "execution_count": 5,
     "metadata": {},
     "output_type": "execute_result"
    }
   ],
   "source": [
    "#Taking a closer look at those schools, to see if they have some special risk \n",
    "urm.loc[(urm['Building Use']=='Schools'), [\"Preliminary Risk Category\", \"Building Use\", \"Retrofit Level\"]]"
   ]
  },
  {
   "cell_type": "code",
   "execution_count": 6,
   "metadata": {
    "collapsed": false
   },
   "outputs": [
    {
     "data": {
      "text/html": [
       "<div>\n",
       "<table border=\"1\" class=\"dataframe\">\n",
       "  <thead>\n",
       "    <tr style=\"text-align: right;\">\n",
       "      <th></th>\n",
       "      <th>Preliminary Risk Category</th>\n",
       "      <th>Building Use</th>\n",
       "    </tr>\n",
       "  </thead>\n",
       "  <tbody>\n",
       "  </tbody>\n",
       "</table>\n",
       "</div>"
      ],
      "text/plain": [
       "Empty DataFrame\n",
       "Columns: [Preliminary Risk Category, Building Use]\n",
       "Index: []"
      ]
     },
     "execution_count": 6,
     "metadata": {},
     "output_type": "execute_result"
    }
   ],
   "source": [
    "#Sure looks like all the schools are considered 'Critical Risk'. To make sure, we'll check for schools that are not 'Critical':\n",
    "urm.loc[(urm['Preliminary Risk Category']!='Critical Risk') & (urm['Building Use']=='Schools'), [\"Preliminary Risk Category\", \"Building Use\"]]"
   ]
  },
  {
   "cell_type": "code",
   "execution_count": 7,
   "metadata": {
    "collapsed": false
   },
   "outputs": [
    {
     "data": {
      "text/html": [
       "<div>\n",
       "<table border=\"1\" class=\"dataframe\">\n",
       "  <thead>\n",
       "    <tr style=\"text-align: right;\">\n",
       "      <th></th>\n",
       "      <th>Preliminary Risk Category</th>\n",
       "      <th>Building Use</th>\n",
       "    </tr>\n",
       "  </thead>\n",
       "  <tbody>\n",
       "    <tr>\n",
       "      <th>276</th>\n",
       "      <td>Critical Risk</td>\n",
       "      <td>Emergency</td>\n",
       "    </tr>\n",
       "  </tbody>\n",
       "</table>\n",
       "</div>"
      ],
      "text/plain": [
       "    Preliminary Risk Category Building Use\n",
       "276             Critical Risk    Emergency"
      ]
     },
     "execution_count": 7,
     "metadata": {},
     "output_type": "execute_result"
    }
   ],
   "source": [
    "#None. We have now established not only that all schools are considered 'Critical Risk', but that the designation is applied regardless of the retrofits or alterations to the building. It's beginning to look like schools are sui generis in the eyes of Seattle's city hall. The final step in demonstrating this is to ask: are schools also the only 'Critical Risk' buildings? \n",
    "urm.loc[(urm['Preliminary Risk Category']=='Critical Risk') & (urm['Building Use']!='Schools'), [\"Preliminary Risk Category\", \"Building Use\"]]"
   ]
  },
  {
   "cell_type": "code",
   "execution_count": null,
   "metadata": {
    "collapsed": true
   },
   "outputs": [],
   "source": [
    "#So we've found that all schools are considered 'Critical Risk', and with one exception, all 'Critical Risk' buildings are schools - a near-perfect correlation. Of course, correlation does not imply causation, but in this case common sense suggests that the govenrment wishes to maintain at least the appearance of extra vigilance towards the safety of school buildings. No parent wants to think that their child's school may come down in an earthquake and that the government doesn't take the problem seriously.\n",
    "\n",
    "#However, this approach renders the 'Critical Risk' designation redundant and meaningless - all it really tells us is that the building in question is a school, or that lone 'Emergency' building. Since the 'Critical Risk' designation is used for all schools, it should be possible to evaluate the set of schools using the same criteria applied to other buildings, and thus arrive at a more objective and less politically-motivated risk assessment.\n",
    "\n",
    "#In the lingo of data science, this is the \"supervised learning problem\", which we can attack by using the data on non-school buildings to train a model to assess the relative risk an earthquake would pose to each school."
   ]
  },
  {
   "cell_type": "code",
   "execution_count": 8,
   "metadata": {
    "collapsed": true
   },
   "outputs": [],
   "source": [
    "#Before moving on, let's re-organize our dataframe to generalize what we did for schools: For each building use class, get the value count of the buildings in each risk category. Then we can build a new table with risk categories for columns, and building uses for rows. Since this operation may be generally useful, I'll declare a function that can do it with any 2 columns:  \n",
    "\n",
    "def value_count_table (data, index_col, data_col): #Given a dataframe and 2 column names (strings), returns a table with rows labeled according to each unique value appearing in index_col and columns labeled by unique values in data_col. Each cell contains the number of times a given value of data_col appears in conjunction with a given value for index_col in the original dataset.\n",
    "\n",
    "  row_dict = data[index_col].value_counts() #returns a dict with index_col categories as keys\n",
    "  col_dict = data[data_col].value_counts() #same for data_col entries\n",
    "\n",
    "  output_cols = [index_col] #set the left-most output column name to be the index column name\n",
    "\n",
    "  for n in range(len(col_dict.keys())): #shoehorn the object returned by keys() into the column list for the output dataframe\n",
    "    output_cols.append(col_dict.keys()[n])  \n",
    "\n",
    "  output = pan.DataFrame(columns = output_cols, index = range(len(row_dict.keys()))) #Create a dataframe w/ NaN to hold results\n",
    "\n",
    "  for n in range(len(row_dict.keys())): #Loop over the set of rows\n",
    "    \n",
    "    sub_frame = data.loc[(data[index_col] == row_dict.keys()[n]), [index_col, data_col]] #For each row, create a temporary frame\n",
    "   \n",
    "    counts = sub_frame[data_col].value_counts()  #Get value counts from the new frame and assign the output to a new dict\n",
    "    \n",
    "    count_dict = {index_col:row_dict.keys()[n]} #Build a dictionary with the category name\n",
    "  \n",
    "    count_dict.update(dict(counts)) #Add the dictionary of risk category counts to count_dict\n",
    "  \n",
    "    output.loc[n] = count_dict #Write in count_dict as a row in the new datframe\n",
    "\n",
    "  output.fillna(0, inplace = True)\n",
    "  return(output)"
   ]
  },
  {
   "cell_type": "code",
   "execution_count": 9,
   "metadata": {
    "collapsed": false
   },
   "outputs": [
    {
     "data": {
      "text/html": [
       "<div>\n",
       "<table border=\"1\" class=\"dataframe\">\n",
       "  <thead>\n",
       "    <tr style=\"text-align: right;\">\n",
       "      <th></th>\n",
       "      <th>Building Use</th>\n",
       "      <th>Medium Risk</th>\n",
       "      <th>High Risk</th>\n",
       "      <th>Critical Risk</th>\n",
       "    </tr>\n",
       "  </thead>\n",
       "  <tbody>\n",
       "    <tr>\n",
       "      <th>0</th>\n",
       "      <td>Commercial</td>\n",
       "      <td>332</td>\n",
       "      <td>9</td>\n",
       "      <td>0</td>\n",
       "    </tr>\n",
       "    <tr>\n",
       "      <th>1</th>\n",
       "      <td>Residential</td>\n",
       "      <td>171</td>\n",
       "      <td>14</td>\n",
       "      <td>0</td>\n",
       "    </tr>\n",
       "    <tr>\n",
       "      <th>2</th>\n",
       "      <td>Commercial/Residential</td>\n",
       "      <td>129</td>\n",
       "      <td>15</td>\n",
       "      <td>0</td>\n",
       "    </tr>\n",
       "    <tr>\n",
       "      <th>3</th>\n",
       "      <td>Commercial/Office</td>\n",
       "      <td>108</td>\n",
       "      <td>30</td>\n",
       "      <td>0</td>\n",
       "    </tr>\n",
       "    <tr>\n",
       "      <th>4</th>\n",
       "      <td>Public Assembly</td>\n",
       "      <td>17</td>\n",
       "      <td>106</td>\n",
       "      <td>0</td>\n",
       "    </tr>\n",
       "    <tr>\n",
       "      <th>5</th>\n",
       "      <td>Schools</td>\n",
       "      <td>0</td>\n",
       "      <td>0</td>\n",
       "      <td>75</td>\n",
       "    </tr>\n",
       "    <tr>\n",
       "      <th>6</th>\n",
       "      <td>Office</td>\n",
       "      <td>56</td>\n",
       "      <td>3</td>\n",
       "      <td>0</td>\n",
       "    </tr>\n",
       "    <tr>\n",
       "      <th>7</th>\n",
       "      <td>Other Mixed Uses</td>\n",
       "      <td>24</td>\n",
       "      <td>4</td>\n",
       "      <td>0</td>\n",
       "    </tr>\n",
       "    <tr>\n",
       "      <th>8</th>\n",
       "      <td>Government</td>\n",
       "      <td>26</td>\n",
       "      <td>1</td>\n",
       "      <td>0</td>\n",
       "    </tr>\n",
       "    <tr>\n",
       "      <th>9</th>\n",
       "      <td>Industrial</td>\n",
       "      <td>24</td>\n",
       "      <td>1</td>\n",
       "      <td>0</td>\n",
       "    </tr>\n",
       "    <tr>\n",
       "      <th>10</th>\n",
       "      <td>Vacant</td>\n",
       "      <td>5</td>\n",
       "      <td>0</td>\n",
       "      <td>0</td>\n",
       "    </tr>\n",
       "    <tr>\n",
       "      <th>11</th>\n",
       "      <td>Emergency</td>\n",
       "      <td>0</td>\n",
       "      <td>0</td>\n",
       "      <td>1</td>\n",
       "    </tr>\n",
       "  </tbody>\n",
       "</table>\n",
       "</div>"
      ],
      "text/plain": [
       "              Building Use  Medium Risk  High Risk  Critical Risk\n",
       "0               Commercial          332          9              0\n",
       "1              Residential          171         14              0\n",
       "2   Commercial/Residential          129         15              0\n",
       "3        Commercial/Office          108         30              0\n",
       "4          Public Assembly           17        106              0\n",
       "5                  Schools            0          0             75\n",
       "6                   Office           56          3              0\n",
       "7         Other Mixed Uses           24          4              0\n",
       "8               Government           26          1              0\n",
       "9               Industrial           24          1              0\n",
       "10                  Vacant            5          0              0\n",
       "11               Emergency            0          0              1"
      ]
     },
     "execution_count": 9,
     "metadata": {},
     "output_type": "execute_result"
    }
   ],
   "source": [
    "value_count_table(urm, 'Building Use', 'Preliminary Risk Category')"
   ]
  },
  {
   "cell_type": "code",
   "execution_count": null,
   "metadata": {
    "collapsed": true
   },
   "outputs": [],
   "source": [
    "#As we have already seen, the emergency building and schools are the only ones designated 'Critical', and vice versa. However, something appears to be going on with the 'Public Assembly' buildings-they're the only category where the number of 'High Risk' buildings is much greater than 'Medium Risk'. I suspect that politics has informed this judgement as well. To stick to objective criteria, I think 'Public Assembly' buidings should also be excluded from the set of training data."
   ]
  },
  {
   "cell_type": "code",
   "execution_count": 10,
   "metadata": {
    "collapsed": false
   },
   "outputs": [
    {
     "name": "stdout",
     "output_type": "stream",
     "text": [
      "Missing values per column:\n",
      "Preliminary Risk Category        0\n",
      "Neighborhood                     0\n",
      "Address                          0\n",
      "Year Built                       0\n",
      "No. Stories                      0\n",
      "Retrofit Level                   0\n",
      "Building Use                     0\n",
      "Estimated Number of Occupants    4\n",
      "Confirmation Source              5\n",
      "dtype: int64\n"
     ]
    }
   ],
   "source": [
    "#Before we construct a model, we should check for gaps in the dataset\n",
    "def num_missing(x):        #Define a new function num_missing() to check for null cells\n",
    "  return sum(x.isnull())\n",
    "\n",
    "print (\"Missing values per column:\")\n",
    "print (urm.apply(num_missing, axis=0)) #use function apply() to run num_zero() on each column"
   ]
  },
  {
   "cell_type": "code",
   "execution_count": null,
   "metadata": {
    "collapsed": true
   },
   "outputs": [],
   "source": [
    "#There are a few holes to patch, but overall, the data set is pretty complete."
   ]
  },
  {
   "cell_type": "code",
   "execution_count": 11,
   "metadata": {
    "collapsed": false
   },
   "outputs": [
    {
     "data": {
      "text/plain": [
       "11-100    604\n",
       "101+      477\n",
       "1-10       66\n",
       "Name: Estimated Number of Occupants, dtype: int64"
      ]
     },
     "execution_count": 11,
     "metadata": {},
     "output_type": "execute_result"
    }
   ],
   "source": [
    "#Get the Distribution of counts for the various occupancy estimates\n",
    "urm['Estimated Number of Occupants'].value_counts()"
   ]
  },
  {
   "cell_type": "code",
   "execution_count": 12,
   "metadata": {
    "collapsed": false
   },
   "outputs": [],
   "source": [
    "#As a quick fix, let's  just fill in the missing values in this category with the most common entry: 11-100\n",
    "urm['Estimated Number of Occupants'].fillna('11-100', inplace=True)"
   ]
  },
  {
   "cell_type": "code",
   "execution_count": 13,
   "metadata": {
    "collapsed": false
   },
   "outputs": [
    {
     "data": {
      "text/plain": [
       "Google Street View                          534\n",
       "Field Visit                                 266\n",
       "Permit Drawing Review                       164\n",
       "Photos from Previous Surveys                 98\n",
       "Sandborn Insurance Maps                      37\n",
       "Google Street View-Rosettes                  20\n",
       "White Card Permit Records                    10\n",
       "University of Washington Facilities List      6\n",
       "Department of Neighborhoods                   4\n",
       "Previous Seismic Reports                      3\n",
       "Photos (Rosettes) from Previous Surveys       2\n",
       "History Link                                  1\n",
       "University of Washington Daily--Online        1\n",
       "Name: Confirmation Source, dtype: int64"
      ]
     },
     "execution_count": 13,
     "metadata": {},
     "output_type": "execute_result"
    }
   ],
   "source": [
    "#Get the category distribution of sources\n",
    "urm['Confirmation Source'].value_counts()"
   ]
  },
  {
   "cell_type": "code",
   "execution_count": 14,
   "metadata": {
    "collapsed": true
   },
   "outputs": [],
   "source": [
    "#Again, we'll use the quick-and dirty munging approach - replace missing values in this category with 'Google Street View'\n",
    "urm['Confirmation Source'].fillna('Google Street View', inplace=True)"
   ]
  },
  {
   "cell_type": "code",
   "execution_count": 15,
   "metadata": {
    "collapsed": false
   },
   "outputs": [
    {
     "name": "stdout",
     "output_type": "stream",
     "text": [
      "Missing values per column:\n",
      "Preliminary Risk Category        0\n",
      "Neighborhood                     0\n",
      "Address                          0\n",
      "Year Built                       0\n",
      "No. Stories                      0\n",
      "Retrofit Level                   0\n",
      "Building Use                     0\n",
      "Estimated Number of Occupants    0\n",
      "Confirmation Source              0\n",
      "dtype: int64\n"
     ]
    }
   ],
   "source": [
    "#We should now have a hole-free dataset\n",
    "def num_missing(x):        #Define a new function num_missing() to check for null cells\n",
    "  return sum(x.isnull())\n",
    "\n",
    "print (\"Missing values per column:\")\n",
    "print (urm.apply(num_missing, axis=0)) #use function apply() to run num_zero() on each column"
   ]
  },
  {
   "cell_type": "code",
   "execution_count": 16,
   "metadata": {
    "collapsed": false
   },
   "outputs": [
    {
     "data": {
      "text/html": [
       "<div>\n",
       "<table border=\"1\" class=\"dataframe\">\n",
       "  <thead>\n",
       "    <tr style=\"text-align: right;\">\n",
       "      <th></th>\n",
       "      <th>Year Built</th>\n",
       "      <th>No. Stories</th>\n",
       "    </tr>\n",
       "  </thead>\n",
       "  <tbody>\n",
       "    <tr>\n",
       "      <th>count</th>\n",
       "      <td>1151.000000</td>\n",
       "      <td>1151.000000</td>\n",
       "    </tr>\n",
       "    <tr>\n",
       "      <th>mean</th>\n",
       "      <td>1900.642919</td>\n",
       "      <td>2.506516</td>\n",
       "    </tr>\n",
       "    <tr>\n",
       "      <th>std</th>\n",
       "      <td>178.409817</td>\n",
       "      <td>1.514481</td>\n",
       "    </tr>\n",
       "    <tr>\n",
       "      <th>min</th>\n",
       "      <td>0.000000</td>\n",
       "      <td>1.000000</td>\n",
       "    </tr>\n",
       "    <tr>\n",
       "      <th>25%</th>\n",
       "      <td>1908.000000</td>\n",
       "      <td>1.000000</td>\n",
       "    </tr>\n",
       "    <tr>\n",
       "      <th>50%</th>\n",
       "      <td>1919.000000</td>\n",
       "      <td>2.000000</td>\n",
       "    </tr>\n",
       "    <tr>\n",
       "      <th>75%</th>\n",
       "      <td>1926.000000</td>\n",
       "      <td>3.000000</td>\n",
       "    </tr>\n",
       "    <tr>\n",
       "      <th>max</th>\n",
       "      <td>1957.000000</td>\n",
       "      <td>10.000000</td>\n",
       "    </tr>\n",
       "  </tbody>\n",
       "</table>\n",
       "</div>"
      ],
      "text/plain": [
       "        Year Built  No. Stories\n",
       "count  1151.000000  1151.000000\n",
       "mean   1900.642919     2.506516\n",
       "std     178.409817     1.514481\n",
       "min       0.000000     1.000000\n",
       "25%    1908.000000     1.000000\n",
       "50%    1919.000000     2.000000\n",
       "75%    1926.000000     3.000000\n",
       "max    1957.000000    10.000000"
      ]
     },
     "execution_count": 16,
     "metadata": {},
     "output_type": "execute_result"
    }
   ],
   "source": [
    "urm.describe() #Description of numerical data. "
   ]
  },
  {
   "cell_type": "code",
   "execution_count": null,
   "metadata": {
    "collapsed": true
   },
   "outputs": [],
   "source": [
    "#There are 1151 buildings covered in each column. But there is another notieceable flaw in the data set - namely, the 'Year Built' category has a nonsensical minimum value of 0. Presumably that's what was entered in lieu of a null cell when accurate records were unavailable."
   ]
  },
  {
   "cell_type": "code",
   "execution_count": 17,
   "metadata": {
    "collapsed": false
   },
   "outputs": [
    {
     "data": {
      "text/plain": [
       "<matplotlib.axes._subplots.AxesSubplot at 0x23c446f0c18>"
      ]
     },
     "execution_count": 17,
     "metadata": {},
     "output_type": "execute_result"
    },
    {
     "data": {
      "image/png": "[encoded data removed]",
      "text/plain": [
       "<matplotlib.figure.Figure at 0x23c446f07f0>"
      ]
     },
     "metadata": {},
     "output_type": "display_data"
    }
   ],
   "source": [
    "#Let's look at the distribution just to be sure.\n",
    "urm['Year Built'].hist(bins=100) "
   ]
  },
  {
   "cell_type": "code",
   "execution_count": null,
   "metadata": {
    "collapsed": true
   },
   "outputs": [],
   "source": [
    "#As suspected, the history of brick buildings in Seattle doesn't really stretch back 2000 years. The only outlying values are 0s."
   ]
  },
  {
   "cell_type": "code",
   "execution_count": 18,
   "metadata": {
    "collapsed": false,
    "scrolled": false
   },
   "outputs": [
    {
     "name": "stdout",
     "output_type": "stream",
     "text": [
      "values per column:\n",
      "Preliminary Risk Category         0\n",
      "Neighborhood                      0\n",
      "Address                           0\n",
      "Year Built                       10\n",
      "No. Stories                       0\n",
      "Retrofit Level                    0\n",
      "Building Use                      0\n",
      "Estimated Number of Occupants     0\n",
      "Confirmation Source               0\n",
      "dtype: int64\n"
     ]
    }
   ],
   "source": [
    "#Let's count the number of zero entries in the 'Year Built' column. \n",
    "def num_zero(x):      #Define a new function num_zero() that sums the results of\n",
    "    return sum(x==0)  #comparison statements between dataframe entries and zero\n",
    "\n",
    "print (\"values per column:\") \n",
    "print (urm.apply(num_zero, axis=0)) #use function apply() to run num_zero() on each col. (axis=1 would run num_zero on each row)"
   ]
  },
  {
   "cell_type": "code",
   "execution_count": null,
   "metadata": {
    "collapsed": true
   },
   "outputs": [],
   "source": [
    "#It seems we have 10 buldings with 0 for construction dates. 1151 total buildings implies 1141 have valid dates. Let's take theaverage value of the years these other buildings were built, round it off, and impute that to the missing entries."
   ]
  },
  {
   "cell_type": "code",
   "execution_count": 19,
   "metadata": {
    "collapsed": false
   },
   "outputs": [
    {
     "data": {
      "text/plain": [
       "1917.3006134969326"
      ]
     },
     "execution_count": 19,
     "metadata": {},
     "output_type": "execute_result"
    }
   ],
   "source": [
    "urm['Year Built'].sum()/1141.0"
   ]
  },
  {
   "cell_type": "code",
   "execution_count": null,
   "metadata": {
    "collapsed": true
   },
   "outputs": [],
   "source": [
    "#1917 seems like a reasonable year. Let's go with that."
   ]
  },
  {
   "cell_type": "code",
   "execution_count": 20,
   "metadata": {
    "collapsed": false
   },
   "outputs": [],
   "source": [
    "#Replace 0 with 1917 in column 'Year Built'\n",
    "urm['Year Built'].replace(0, 1917, inplace=True)"
   ]
  },
  {
   "cell_type": "code",
   "execution_count": 21,
   "metadata": {
    "collapsed": false
   },
   "outputs": [
    {
     "data": {
      "text/plain": [
       "<matplotlib.axes._subplots.AxesSubplot at 0x23c44a2df60>"
      ]
     },
     "execution_count": 21,
     "metadata": {},
     "output_type": "execute_result"
    },
    {
     "data": {
      "image/png": "[encoded data removed]",
      "text/plain": [
       "<matplotlib.figure.Figure at 0x23c449ca5c0>"
      ]
     },
     "metadata": {},
     "output_type": "display_data"
    }
   ],
   "source": [
    "#Check the distribution to see if things make more sense now\n",
    "urm['Year Built'].hist(bins=20) "
   ]
  },
  {
   "cell_type": "code",
   "execution_count": null,
   "metadata": {
    "collapsed": true
   },
   "outputs": [],
   "source": [
    "#You can almost see a couple boom-and-bust construction cycles in the distribution, which is interesting in it's own right."
   ]
  },
  {
   "cell_type": "code",
   "execution_count": 22,
   "metadata": {
    "collapsed": false,
    "scrolled": true
   },
   "outputs": [
    {
     "data": {
      "text/plain": [
       "1     382\n",
       "2     280\n",
       "3     214\n",
       "4     156\n",
       "5      63\n",
       "6      35\n",
       "7      18\n",
       "8       2\n",
       "10      1\n",
       "Name: No. Stories, dtype: int64"
      ]
     },
     "execution_count": 22,
     "metadata": {},
     "output_type": "execute_result"
    }
   ],
   "source": [
    "#Let's look at the distribution of building heights to check for outliers or nonsense values\n",
    "urm['No. Stories'].value_counts() "
   ]
  },
  {
   "cell_type": "code",
   "execution_count": null,
   "metadata": {
    "collapsed": true
   },
   "outputs": [],
   "source": [
    "#Nothing really unexpected here, though I'm surprised someone managed to erect a 10-story building without even using rebar."
   ]
  },
  {
   "cell_type": "code",
   "execution_count": 23,
   "metadata": {
    "collapsed": false
   },
   "outputs": [
    {
     "data": {
      "text/plain": [
       "<matplotlib.axes._subplots.AxesSubplot at 0x23c44ccb3c8>"
      ]
     },
     "execution_count": 23,
     "metadata": {},
     "output_type": "execute_result"
    },
    {
     "data": {
      "image/png": "[encoded data removed]",
      "text/plain": [
       "<matplotlib.figure.Figure at 0x23c449b8be0>"
      ]
     },
     "metadata": {},
     "output_type": "display_data"
    }
   ],
   "source": [
    "#Let's look at the building heights by risk category with a simple box plot, just for fun:\n",
    "urm.boxplot(column='Year Built', by = \"Preliminary Risk Category\")"
   ]
  },
  {
   "cell_type": "code",
   "execution_count": null,
   "metadata": {
    "collapsed": true
   },
   "outputs": [],
   "source": [
    "#Bearing in mind that the 'Critical Risk' category isn't really meaningful, it would seem that taller buildings are more risky, on the whole. This makes intuitive sense."
   ]
  },
  {
   "cell_type": "code",
   "execution_count": null,
   "metadata": {
    "collapsed": true
   },
   "outputs": [],
   "source": [
    "#With no continuous variables, the algorithm of choice should be suitable for classification problems. There is an intuitive hierarchy when it comes to the relevance ot the set of variables - for instance, we would expect that the retrofit status is far more important to the risk level of a building than which neighborhood it's in. It looks like the problem calls for a decision tree algorithm, which will be implemented below."
   ]
  },
  {
   "cell_type": "code",
   "execution_count": 24,
   "metadata": {
    "collapsed": false
   },
   "outputs": [
    {
     "data": {
      "text/plain": [
       "Medium Risk      892\n",
       "High Risk        183\n",
       "Critical Risk     76\n",
       "Name: Preliminary Risk Category, dtype: int64"
      ]
     },
     "execution_count": 24,
     "metadata": {},
     "output_type": "execute_result"
    }
   ],
   "source": [
    "#Now we need to separate the single dataframe urm into two: one frame with no schools for training the model, the other frame with all schools which will be used to make predictions. Start by checking the risk categories for the existing dataframe\n",
    "urm['Preliminary Risk Category'].value_counts()"
   ]
  },
  {
   "cell_type": "code",
   "execution_count": 25,
   "metadata": {
    "collapsed": false
   },
   "outputs": [
    {
     "data": {
      "text/plain": [
       "Medium Risk    875\n",
       "High Risk       77\n",
       "Name: Preliminary Risk Category, dtype: int64"
      ]
     },
     "execution_count": 25,
     "metadata": {},
     "output_type": "execute_result"
    }
   ],
   "source": [
    "#Define the training data set as the set of buildings that don't correspond to 'Critical Risk' \n",
    "train_data = urm[urm['Building Use']  != 'Schools']\n",
    "train_data = train_data[train_data['Building Use'] != 'Emergency']\n",
    "\n",
    "#Get rid of the 'Public Assembly' buildings as well, on account of the anomalous ratio of medium/high risk buildings\n",
    "train_data = train_data[train_data['Building Use'] != 'Public Assembly']\n",
    "\n",
    "#Check to see if the separation is complete-should be no more 'Critical Risk' entries\n",
    "train_data['Preliminary Risk Category'].value_counts()"
   ]
  },
  {
   "cell_type": "code",
   "execution_count": 26,
   "metadata": {
    "collapsed": false
   },
   "outputs": [],
   "source": [
    "#Since sklearn requires all inputs to be numeric, we should convert the categorical variable 'Retrofit Status' to numeric by encoding the categories\n",
    "from sklearn.preprocessing import LabelEncoder\n",
    "\n",
    "columns = ['Preliminary Risk Category','Neighborhood', 'Address', 'Building Use', 'Retrofit Level','Estimated Number of Occupants','Confirmation Source']\n",
    "\n",
    "#LabelEncoder() takes a list of variable names (i.e. columns) as input, returns a dataframe where each category in a given column has been converted to an integer\n",
    "le = LabelEncoder()\n",
    "for i in columns:\n",
    "  train_data[i] = le.fit_transform(train_data[i]) #reassign each column to the result of LabelEncoder()"
   ]
  },
  {
   "cell_type": "code",
   "execution_count": 27,
   "metadata": {
    "collapsed": false
   },
   "outputs": [
    {
     "data": {
      "text/plain": [
       "Preliminary Risk Category        object\n",
       "Neighborhood                     object\n",
       "Address                          object\n",
       "Year Built                        int64\n",
       "No. Stories                       int64\n",
       "Retrofit Level                   object\n",
       "Building Use                     object\n",
       "Estimated Number of Occupants    object\n",
       "Confirmation Source              object\n",
       "dtype: object"
      ]
     },
     "execution_count": 27,
     "metadata": {},
     "output_type": "execute_result"
    }
   ],
   "source": [
    "#Check to see that relevant data columns are numeric values\n",
    "urm.dtypes "
   ]
  },
  {
   "cell_type": "code",
   "execution_count": 28,
   "metadata": {
    "collapsed": false
   },
   "outputs": [
    {
     "name": "stderr",
     "output_type": "stream",
     "text": [
      "C:\\Users\\brent\\Anaconda3\\lib\\site-packages\\sklearn\\cross_validation.py:44: DeprecationWarning: This module was deprecated in version 0.18 in favor of the model_selection module into which all the refactored classes and functions are moved. Also note that the interface of the new CV iterators are different from that of this module. This module will be removed in 0.20.\n",
      "  \"This module will be removed in 0.20.\", DeprecationWarning)\n"
     ]
    }
   ],
   "source": [
    "#Import models from scikit learn module:\n",
    "from sklearn.tree import DecisionTreeClassifier\n",
    "from sklearn.ensemble import RandomForestClassifier\n",
    "\n",
    "#Import cross-validation tools\n",
    "from sklearn.model_selection import cross_val_score\n",
    "from sklearn.cross_validation import KFold \n",
    "from sklearn import metrics"
   ]
  },
  {
   "cell_type": "code",
   "execution_count": 29,
   "metadata": {
    "collapsed": false
   },
   "outputs": [],
   "source": [
    "#This is the function that will be used to train the model on the buildings in train_data. Given a model type and a set of predictor variables, we will do the fitting and compare the model's output to the list of results, then use 5-fold cross validation to see if the model generalizes well.\n",
    "def learn (model, predictor_vars):\n",
    "\n",
    "  model.fit(train_data[predictor_vars], train_data['Preliminary Risk Category'])\n",
    "\n",
    "  predictions = model.predict(train_data[predictor_vars])\n",
    "\n",
    "  accuracy = metrics.accuracy_score(predictions,train_data['Preliminary Risk Category'])\n",
    "  \n",
    "  print (\"Accuracy : %s\" % \"{0:.3%}\".format(accuracy))\n",
    "\n",
    "#5-fold cross-validation: Iterate the training/testing proceedure 5 times, withholding 1/5th of the dataset each time and training the model on the remainder. Then apply the model to the excluded data and average the errors from each iteration for the 'cross-validation score'\n",
    "  error = []\n",
    "  kf = KFold(train_data.shape[0], n_folds=5)\n",
    "  \n",
    "  for train, test in kf:\n",
    "    predictor_slice = (train_data[predictor_vars].iloc[train,:]) #Take a slice from the training dataframe\n",
    "  \n",
    "    model.fit(predictor_slice, train_data['Preliminary Risk Category'].iloc[train]) #Perform fit\n",
    "\n",
    "    error.append(model.score(train_data[predictor_vars].iloc[test,:], train_data['Preliminary Risk Category'].iloc[test]))  \n",
    "  \n",
    "  print (\"Cross-Validation Score : %s\" % \"{0:.3%}\".format(num.mean(error))) #Average the error scores from each slice"
   ]
  },
  {
   "cell_type": "code",
   "execution_count": 30,
   "metadata": {
    "collapsed": false
   },
   "outputs": [
    {
     "name": "stdout",
     "output_type": "stream",
     "text": [
      "Accuracy : 96.744%\n",
      "Cross-Validation Score : 88.134%\n"
     ]
    }
   ],
   "source": [
    "#Try a single decision tree for starters, with just 3 predictor variables\n",
    "tree_model = DecisionTreeClassifier()\n",
    "input_vars = ['Retrofit Level', 'Neighborhood', 'Year Built']\n",
    "learn(tree_model, input_vars)"
   ]
  },
  {
   "cell_type": "code",
   "execution_count": 31,
   "metadata": {
    "collapsed": false
   },
   "outputs": [
    {
     "name": "stdout",
     "output_type": "stream",
     "text": [
      "Accuracy : 97.374%\n",
      "Cross-Validation Score : 91.076%\n"
     ]
    }
   ],
   "source": [
    "#The single tree does a fairly good job reproducing results of the full training dataset, but the model appears to overfit-the lower cross-validation score shows that the model yields poorer predictions when applied to data it was not trained on. Let's try a different set of input variables:\n",
    "input_vars = ['Retrofit Level', 'No. Stories', 'Year Built']\n",
    "learn(tree_model, input_vars)"
   ]
  },
  {
   "cell_type": "code",
   "execution_count": 32,
   "metadata": {
    "collapsed": false,
    "scrolled": true
   },
   "outputs": [
    {
     "name": "stdout",
     "output_type": "stream",
     "text": [
      "Accuracy : 99.895%\n",
      "Cross-Validation Score : 92.233%\n"
     ]
    }
   ],
   "source": [
    "#A slight improvement. Try the whole set of predictors:\n",
    "input_vars = ['Retrofit Level', 'Neighborhood', 'No. Stories', 'Year Built', 'Estimated Number of Occupants', 'Confirmation Source']\n",
    "learn(tree_model, input_vars)"
   ]
  },
  {
   "cell_type": "code",
   "execution_count": 33,
   "metadata": {
    "collapsed": false
   },
   "outputs": [
    {
     "name": "stdout",
     "output_type": "stream",
     "text": [
      "Accuracy : 99.580%\n",
      "Cross-Validation Score : 93.592%\n"
     ]
    }
   ],
   "source": [
    "#So the decision tree appears to improve with more information. It still seems like we can do better, perhaps by using a random forest method:  \n",
    "RF_model = RandomForestClassifier()\n",
    "input_vars = ['Retrofit Level', 'Neighborhood', 'No. Stories',  'Year Built', 'Estimated Number of Occupants', 'Confirmation Source']\n",
    "learn(RF_model, input_vars)"
   ]
  },
  {
   "cell_type": "code",
   "execution_count": 37,
   "metadata": {
    "collapsed": false
   },
   "outputs": [
    {
     "name": "stdout",
     "output_type": "stream",
     "text": [
      "Accuracy : 99.790%\n",
      "Cross-Validation Score : 94.015%\n"
     ]
    }
   ],
   "source": [
    "#separate the schools from the original dataframe\n",
    "school_data = urm[urm['Building Use'] == 'Schools']\n",
    "input_data = school_data[:] #copy dataframe w/slice notation so that we can overwrite entries with numeric values\n",
    "\n",
    "columns = ['Preliminary Risk Category','Neighborhood', 'Address', 'Building Use', 'Retrofit Level','Estimated Number of Occupants','Confirmation Source']\n",
    "\n",
    "#encode the values of input_data for input to the model\n",
    "le = LabelEncoder()\n",
    "for i in columns:\n",
    "  input_data[i] = le.fit_transform(school_data[i]) #reassign each column to the result of LabelEncoder()\n",
    "\n",
    "#set the predictors and run the random forest model on both the training dataframe and the school dataframe\n",
    "RF_model = RandomForestClassifier()\n",
    "input_vars = ['Retrofit Level', 'Neighborhood', 'No. Stories', 'Year Built', 'Estimated Number of Occupants', 'Confirmation Source']\n",
    "learn(RF_model, input_vars)\n",
    "\n",
    "predictions = RF_model.predict(input_data[input_vars])"
   ]
  },
  {
   "cell_type": "code",
   "execution_count": 38,
   "metadata": {
    "collapsed": false
   },
   "outputs": [],
   "source": [
    "x = 0\n",
    "for y in school_data.index.values: #index values are retained from the original dataframe -> can't loop on range(len(...))\n",
    "  if predictions[x] == 0:\n",
    "    school_data.set_value(y, 'Preliminary Risk Category', 'High Risk')\n",
    "  if predictions[x] == 1:\n",
    "    school_data.set_value(y, 'Preliminary Risk Category', 'Medium Risk')\n",
    "  x += 1"
   ]
  },
  {
   "cell_type": "code",
   "execution_count": 50,
   "metadata": {
    "collapsed": false
   },
   "outputs": [
    {
     "data": {
      "text/html": [
       "<div>\n",
       "<table border=\"1\" class=\"dataframe\">\n",
       "  <thead>\n",
       "    <tr style=\"text-align: right;\">\n",
       "      <th></th>\n",
       "      <th>Preliminary Risk Category</th>\n",
       "      <th>Neighborhood</th>\n",
       "      <th>Address</th>\n",
       "      <th>Year Built</th>\n",
       "      <th>No. Stories</th>\n",
       "      <th>Retrofit Level</th>\n",
       "      <th>Building Use</th>\n",
       "      <th>Estimated Number of Occupants</th>\n",
       "      <th>Confirmation Source</th>\n",
       "    </tr>\n",
       "  </thead>\n",
       "  <tbody>\n",
       "    <tr>\n",
       "      <th>376</th>\n",
       "      <td>High Risk</td>\n",
       "      <td>Univ Dist</td>\n",
       "      <td>2103 NE Skagit Ln</td>\n",
       "      <td>1896</td>\n",
       "      <td>4</td>\n",
       "      <td>Substantial Alteration</td>\n",
       "      <td>Schools</td>\n",
       "      <td>101+</td>\n",
       "      <td>Permit Drawing Review</td>\n",
       "    </tr>\n",
       "    <tr>\n",
       "      <th>605</th>\n",
       "      <td>High Risk</td>\n",
       "      <td>Queen Anne</td>\n",
       "      <td>3307 3rd Ave W</td>\n",
       "      <td>1891</td>\n",
       "      <td>4</td>\n",
       "      <td>Substantial Alteration</td>\n",
       "      <td>Schools</td>\n",
       "      <td>101+</td>\n",
       "      <td>Google Street View</td>\n",
       "    </tr>\n",
       "    <tr>\n",
       "      <th>676</th>\n",
       "      <td>High Risk</td>\n",
       "      <td>Univ Dist</td>\n",
       "      <td>4182 E Stevens Way NE</td>\n",
       "      <td>1896</td>\n",
       "      <td>4</td>\n",
       "      <td>Permitted Retrofit</td>\n",
       "      <td>Schools</td>\n",
       "      <td>101+</td>\n",
       "      <td>Permit Drawing Review</td>\n",
       "    </tr>\n",
       "    <tr>\n",
       "      <th>756</th>\n",
       "      <td>High Risk</td>\n",
       "      <td>Wallingford</td>\n",
       "      <td>4649 Sunnyside Ave N</td>\n",
       "      <td>1906</td>\n",
       "      <td>5</td>\n",
       "      <td>Permitted Retrofit</td>\n",
       "      <td>Schools</td>\n",
       "      <td>101+</td>\n",
       "      <td>Permit Drawing Review</td>\n",
       "    </tr>\n",
       "  </tbody>\n",
       "</table>\n",
       "</div>"
      ],
      "text/plain": [
       "    Preliminary Risk Category Neighborhood                Address  Year Built  \\\n",
       "376                 High Risk    Univ Dist      2103 NE Skagit Ln        1896   \n",
       "605                 High Risk   Queen Anne         3307 3rd Ave W        1891   \n",
       "676                 High Risk    Univ Dist  4182 E Stevens Way NE        1896   \n",
       "756                 High Risk  Wallingford   4649 Sunnyside Ave N        1906   \n",
       "\n",
       "     No. Stories          Retrofit Level Building Use  \\\n",
       "376            4  Substantial Alteration      Schools   \n",
       "605            4  Substantial Alteration      Schools   \n",
       "676            4      Permitted Retrofit      Schools   \n",
       "756            5      Permitted Retrofit      Schools   \n",
       "\n",
       "    Estimated Number of Occupants    Confirmation Source  \n",
       "376                          101+  Permit Drawing Review  \n",
       "605                          101+     Google Street View  \n",
       "676                          101+  Permit Drawing Review  \n",
       "756                          101+  Permit Drawing Review  "
      ]
     },
     "execution_count": 50,
     "metadata": {},
     "output_type": "execute_result"
    }
   ],
   "source": [
    "#Now that the model has made its predictions, let's look at the highest-rish school buildings:\n",
    "school_data.loc[(school_data['Preliminary Risk Category']=='High Risk'), ['Preliminary Risk Category','Neighborhood', 'Address',  'Year Built', 'No. Stories', 'Retrofit Level', 'Building Use', 'Estimated Number of Occupants','Confirmation Source']]"
   ]
  },
  {
   "cell_type": "code",
   "execution_count": 40,
   "metadata": {
    "collapsed": false
   },
   "outputs": [
    {
     "data": {
      "text/plain": [
       "Permitted Retrofit        42\n",
       "Substantial Alteration    16\n",
       "No visible retrofit       14\n",
       "Visible retrofit           3\n",
       "Name: Retrofit Level, dtype: int64"
      ]
     },
     "execution_count": 40,
     "metadata": {},
     "output_type": "execute_result"
    }
   ],
   "source": [
    "#One thing that stands out immediately is that all of the high-risk schools have permitted retrofits or 'substantial alterations'. This is somewhat surprising, given that reinforcements should lower the risk of any given building. Of course, it's possible that schools were made a priority and are nearly all reinforced. Let's check the distribution:\n",
    "school_data['Retrofit Level'].value_counts()"
   ]
  },
  {
   "cell_type": "code",
   "execution_count": 44,
   "metadata": {
    "collapsed": false
   },
   "outputs": [
    {
     "data": {
      "text/html": [
       "<div>\n",
       "<table border=\"1\" class=\"dataframe\">\n",
       "  <thead>\n",
       "    <tr style=\"text-align: right;\">\n",
       "      <th></th>\n",
       "      <th>Preliminary Risk Category</th>\n",
       "      <th>High Risk</th>\n",
       "      <th>Medium Risk</th>\n",
       "      <th>All</th>\n",
       "    </tr>\n",
       "    <tr>\n",
       "      <th>No. Stories</th>\n",
       "      <th>Retrofit Level</th>\n",
       "      <th></th>\n",
       "      <th></th>\n",
       "      <th></th>\n",
       "    </tr>\n",
       "  </thead>\n",
       "  <tbody>\n",
       "    <tr>\n",
       "      <th rowspan=\"4\" valign=\"top\">1</th>\n",
       "      <th>No visible retrofit</th>\n",
       "      <td>0</td>\n",
       "      <td>3</td>\n",
       "      <td>3</td>\n",
       "    </tr>\n",
       "    <tr>\n",
       "      <th>Permitted Retrofit</th>\n",
       "      <td>0</td>\n",
       "      <td>5</td>\n",
       "      <td>5</td>\n",
       "    </tr>\n",
       "    <tr>\n",
       "      <th>Substantial Alteration</th>\n",
       "      <td>0</td>\n",
       "      <td>6</td>\n",
       "      <td>6</td>\n",
       "    </tr>\n",
       "    <tr>\n",
       "      <th>Visible retrofit</th>\n",
       "      <td>0</td>\n",
       "      <td>1</td>\n",
       "      <td>1</td>\n",
       "    </tr>\n",
       "    <tr>\n",
       "      <th rowspan=\"3\" valign=\"top\">2</th>\n",
       "      <th>No visible retrofit</th>\n",
       "      <td>0</td>\n",
       "      <td>5</td>\n",
       "      <td>5</td>\n",
       "    </tr>\n",
       "    <tr>\n",
       "      <th>Permitted Retrofit</th>\n",
       "      <td>0</td>\n",
       "      <td>10</td>\n",
       "      <td>10</td>\n",
       "    </tr>\n",
       "    <tr>\n",
       "      <th>Substantial Alteration</th>\n",
       "      <td>0</td>\n",
       "      <td>2</td>\n",
       "      <td>2</td>\n",
       "    </tr>\n",
       "    <tr>\n",
       "      <th rowspan=\"4\" valign=\"top\">3</th>\n",
       "      <th>No visible retrofit</th>\n",
       "      <td>0</td>\n",
       "      <td>5</td>\n",
       "      <td>5</td>\n",
       "    </tr>\n",
       "    <tr>\n",
       "      <th>Permitted Retrofit</th>\n",
       "      <td>0</td>\n",
       "      <td>19</td>\n",
       "      <td>19</td>\n",
       "    </tr>\n",
       "    <tr>\n",
       "      <th>Substantial Alteration</th>\n",
       "      <td>0</td>\n",
       "      <td>5</td>\n",
       "      <td>5</td>\n",
       "    </tr>\n",
       "    <tr>\n",
       "      <th>Visible retrofit</th>\n",
       "      <td>0</td>\n",
       "      <td>2</td>\n",
       "      <td>2</td>\n",
       "    </tr>\n",
       "    <tr>\n",
       "      <th rowspan=\"3\" valign=\"top\">4</th>\n",
       "      <th>No visible retrofit</th>\n",
       "      <td>0</td>\n",
       "      <td>1</td>\n",
       "      <td>1</td>\n",
       "    </tr>\n",
       "    <tr>\n",
       "      <th>Permitted Retrofit</th>\n",
       "      <td>1</td>\n",
       "      <td>6</td>\n",
       "      <td>7</td>\n",
       "    </tr>\n",
       "    <tr>\n",
       "      <th>Substantial Alteration</th>\n",
       "      <td>2</td>\n",
       "      <td>1</td>\n",
       "      <td>3</td>\n",
       "    </tr>\n",
       "    <tr>\n",
       "      <th>5</th>\n",
       "      <th>Permitted Retrofit</th>\n",
       "      <td>1</td>\n",
       "      <td>0</td>\n",
       "      <td>1</td>\n",
       "    </tr>\n",
       "    <tr>\n",
       "      <th>All</th>\n",
       "      <th></th>\n",
       "      <td>4</td>\n",
       "      <td>71</td>\n",
       "      <td>75</td>\n",
       "    </tr>\n",
       "  </tbody>\n",
       "</table>\n",
       "</div>"
      ],
      "text/plain": [
       "Preliminary Risk Category           High Risk  Medium Risk  All\n",
       "No. Stories Retrofit Level                                     \n",
       "1           No visible retrofit             0            3    3\n",
       "            Permitted Retrofit              0            5    5\n",
       "            Substantial Alteration          0            6    6\n",
       "            Visible retrofit                0            1    1\n",
       "2           No visible retrofit             0            5    5\n",
       "            Permitted Retrofit              0           10   10\n",
       "            Substantial Alteration          0            2    2\n",
       "3           No visible retrofit             0            5    5\n",
       "            Permitted Retrofit              0           19   19\n",
       "            Substantial Alteration          0            5    5\n",
       "            Visible retrofit                0            2    2\n",
       "4           No visible retrofit             0            1    1\n",
       "            Permitted Retrofit              1            6    7\n",
       "            Substantial Alteration          2            1    3\n",
       "5           Permitted Retrofit              1            0    1\n",
       "All                                         4           71   75"
      ]
     },
     "execution_count": 44,
     "metadata": {},
     "output_type": "execute_result"
    }
   ],
   "source": [
    "#While most schools have some kind of retrofit (in contrast to the set of all URM buildings), it appears that some don't. Instead, the retrofit status doesn't seem to have much to do with the risk level. However, one thing the high-risk schools have in common is height; all are 4 stories or more. Let's pull out a crosstab to see how the number of stories relates to the model's risk results: \n",
    "pan.crosstab([school_data['No. Stories'], school_data['Retrofit Level']], school_data['Preliminary Risk Category'], margins=True)"
   ]
  },
  {
   "cell_type": "code",
   "execution_count": 46,
   "metadata": {
    "collapsed": true
   },
   "outputs": [],
   "source": [
    "#So all the high-risk school buildings are literally the highest school buildings. It's looking more like the high-risk buildings have retrofitted, rather than the un-retrofitted buildings being designated as high-risk."
   ]
  },
  {
   "cell_type": "code",
   "execution_count": 61,
   "metadata": {
    "collapsed": false
   },
   "outputs": [],
   "source": [
    "#To finish up, let's create a list of URM schools with more nuanced risk assessment by re-running the model on the school input data, outputting the probablilty that each building falls into the 'high-risk' category.\n",
    "predictions = RF_model.predict_proba(input_data[input_vars])\n",
    "\n",
    "x = 0\n",
    "for y in school_data.index.values: #index values are retained from the original dataframe -> can't loop on range(len(...))\n",
    "  school_data.set_value(y, 'Preliminary Risk Category', predictions[x][0])\n",
    "  x += 1\n",
    "\n",
    "#We'll make a special dataset for buildings with nonzero probability of a high-risk classisfication\n",
    "high_risk = school_data.loc[(school_data['Preliminary Risk Category'] > 0), ['Preliminary Risk Category','Neighborhood', 'Address',  'Year Built', 'No. Stories', 'Retrofit Level', 'Building Use', 'Estimated Number of Occupants','Confirmation Source']]"
   ]
  },
  {
   "cell_type": "code",
   "execution_count": 62,
   "metadata": {
    "collapsed": false
   },
   "outputs": [
    {
     "data": {
      "text/html": [
       "<div>\n",
       "<table border=\"1\" class=\"dataframe\">\n",
       "  <thead>\n",
       "    <tr style=\"text-align: right;\">\n",
       "      <th></th>\n",
       "      <th>Preliminary Risk Category</th>\n",
       "      <th>Neighborhood</th>\n",
       "      <th>Address</th>\n",
       "      <th>Year Built</th>\n",
       "      <th>No. Stories</th>\n",
       "      <th>Retrofit Level</th>\n",
       "      <th>Building Use</th>\n",
       "      <th>Estimated Number of Occupants</th>\n",
       "      <th>Confirmation Source</th>\n",
       "    </tr>\n",
       "  </thead>\n",
       "  <tbody>\n",
       "    <tr>\n",
       "      <th>376</th>\n",
       "      <td>0.9</td>\n",
       "      <td>Univ Dist</td>\n",
       "      <td>2103 NE Skagit Ln</td>\n",
       "      <td>1896</td>\n",
       "      <td>4</td>\n",
       "      <td>Substantial Alteration</td>\n",
       "      <td>Schools</td>\n",
       "      <td>101+</td>\n",
       "      <td>Permit Drawing Review</td>\n",
       "    </tr>\n",
       "    <tr>\n",
       "      <th>676</th>\n",
       "      <td>0.7</td>\n",
       "      <td>Univ Dist</td>\n",
       "      <td>4182 E Stevens Way NE</td>\n",
       "      <td>1896</td>\n",
       "      <td>4</td>\n",
       "      <td>Permitted Retrofit</td>\n",
       "      <td>Schools</td>\n",
       "      <td>101+</td>\n",
       "      <td>Permit Drawing Review</td>\n",
       "    </tr>\n",
       "    <tr>\n",
       "      <th>756</th>\n",
       "      <td>0.7</td>\n",
       "      <td>Wallingford</td>\n",
       "      <td>4649 Sunnyside Ave N</td>\n",
       "      <td>1906</td>\n",
       "      <td>5</td>\n",
       "      <td>Permitted Retrofit</td>\n",
       "      <td>Schools</td>\n",
       "      <td>101+</td>\n",
       "      <td>Permit Drawing Review</td>\n",
       "    </tr>\n",
       "    <tr>\n",
       "      <th>605</th>\n",
       "      <td>0.6</td>\n",
       "      <td>Queen Anne</td>\n",
       "      <td>3307 3rd Ave W</td>\n",
       "      <td>1891</td>\n",
       "      <td>4</td>\n",
       "      <td>Substantial Alteration</td>\n",
       "      <td>Schools</td>\n",
       "      <td>101+</td>\n",
       "      <td>Google Street View</td>\n",
       "    </tr>\n",
       "    <tr>\n",
       "      <th>655</th>\n",
       "      <td>0.4</td>\n",
       "      <td>Univ Dist</td>\n",
       "      <td>4105 Memorial Way NE</td>\n",
       "      <td>1902</td>\n",
       "      <td>4</td>\n",
       "      <td>Permitted Retrofit</td>\n",
       "      <td>Schools</td>\n",
       "      <td>101+</td>\n",
       "      <td>University of Washington Daily--Online</td>\n",
       "    </tr>\n",
       "    <tr>\n",
       "      <th>1022</th>\n",
       "      <td>0.3</td>\n",
       "      <td>Miller Park</td>\n",
       "      <td>728 21st Ave E</td>\n",
       "      <td>1908</td>\n",
       "      <td>4</td>\n",
       "      <td>Permitted Retrofit</td>\n",
       "      <td>Schools</td>\n",
       "      <td>101+</td>\n",
       "      <td>Permit Drawing Review</td>\n",
       "    </tr>\n",
       "    <tr>\n",
       "      <th>1129</th>\n",
       "      <td>0.3</td>\n",
       "      <td>First Hill</td>\n",
       "      <td>916 Broadway</td>\n",
       "      <td>1894</td>\n",
       "      <td>4</td>\n",
       "      <td>Permitted Retrofit</td>\n",
       "      <td>Schools</td>\n",
       "      <td>101+</td>\n",
       "      <td>Field Visit</td>\n",
       "    </tr>\n",
       "    <tr>\n",
       "      <th>30</th>\n",
       "      <td>0.2</td>\n",
       "      <td>Duwamish/SODO</td>\n",
       "      <td>1022 1st Ave S</td>\n",
       "      <td>1909</td>\n",
       "      <td>4</td>\n",
       "      <td>Permitted Retrofit</td>\n",
       "      <td>Schools</td>\n",
       "      <td>11-100</td>\n",
       "      <td>Google Street View</td>\n",
       "    </tr>\n",
       "    <tr>\n",
       "      <th>358</th>\n",
       "      <td>0.2</td>\n",
       "      <td>Univ Dist</td>\n",
       "      <td>2034 NE Skagit Ln</td>\n",
       "      <td>1948</td>\n",
       "      <td>4</td>\n",
       "      <td>No visible retrofit</td>\n",
       "      <td>Schools</td>\n",
       "      <td>101+</td>\n",
       "      <td>University of Washington Facilities List</td>\n",
       "    </tr>\n",
       "  </tbody>\n",
       "</table>\n",
       "</div>"
      ],
      "text/plain": [
       "     Preliminary Risk Category   Neighborhood                Address  \\\n",
       "376                        0.9      Univ Dist      2103 NE Skagit Ln   \n",
       "676                        0.7      Univ Dist  4182 E Stevens Way NE   \n",
       "756                        0.7    Wallingford   4649 Sunnyside Ave N   \n",
       "605                        0.6     Queen Anne         3307 3rd Ave W   \n",
       "655                        0.4      Univ Dist   4105 Memorial Way NE   \n",
       "1022                       0.3    Miller Park         728 21st Ave E   \n",
       "1129                       0.3     First Hill           916 Broadway   \n",
       "30                         0.2  Duwamish/SODO         1022 1st Ave S   \n",
       "358                        0.2      Univ Dist      2034 NE Skagit Ln   \n",
       "\n",
       "      Year Built  No. Stories          Retrofit Level Building Use  \\\n",
       "376         1896            4  Substantial Alteration      Schools   \n",
       "676         1896            4      Permitted Retrofit      Schools   \n",
       "756         1906            5      Permitted Retrofit      Schools   \n",
       "605         1891            4  Substantial Alteration      Schools   \n",
       "655         1902            4      Permitted Retrofit      Schools   \n",
       "1022        1908            4      Permitted Retrofit      Schools   \n",
       "1129        1894            4      Permitted Retrofit      Schools   \n",
       "30          1909            4      Permitted Retrofit      Schools   \n",
       "358         1948            4     No visible retrofit      Schools   \n",
       "\n",
       "     Estimated Number of Occupants                       Confirmation Source  \n",
       "376                           101+                     Permit Drawing Review  \n",
       "676                           101+                     Permit Drawing Review  \n",
       "756                           101+                     Permit Drawing Review  \n",
       "605                           101+                        Google Street View  \n",
       "655                           101+    University of Washington Daily--Online  \n",
       "1022                          101+                     Permit Drawing Review  \n",
       "1129                          101+                               Field Visit  \n",
       "30                          11-100                        Google Street View  \n",
       "358                           101+  University of Washington Facilities List  "
      ]
     },
     "execution_count": 62,
     "metadata": {},
     "output_type": "execute_result"
    }
   ],
   "source": [
    "#Finally, let's sort the high-risk probablility values to come up with a ranking system-everyone likes rankings.\n",
    "high_risk.sort_values('Preliminary Risk Category', ascending = False)"
   ]
  },
  {
   "cell_type": "code",
   "execution_count": null,
   "metadata": {
    "collapsed": true
   },
   "outputs": [],
   "source": [
    "#Again, it seems that building height is the most important factor in the risk assessment-all the riskiest buildings are 4 stories or more (remember the tallest school is 5 stories). Another important risk factor appears to be age; 8 of 9 buildings on the list are more than 100 years old. Retrofit status is a secondary concern, as shown by the difference in the top two buildings: both are 4 story buildings on the UW campus, and both date to 1896. The riskiest building according to the model is Clark Hall, home to Washington's ROTC program, which has only a 'substantial alteration', while the neighboring Communications dept. building has a permitted retrofit on file with the city."
   ]
  }
 ],
 "metadata": {
  "celltoolbar": "Raw Cell Format",
  "kernelspec": {
   "display_name": "Python 3",
   "language": "python",
   "name": "python3"
  },
  "language_info": {
   "codemirror_mode": {
    "name": "ipython",
    "version": 3
   },
   "file_extension": ".py",
   "mimetype": "text/x-python",
   "name": "python",
   "nbconvert_exporter": "python",
   "pygments_lexer": "ipython3",
   "version": "3.6.0"
  }
 },
 "nbformat": 4,
 "nbformat_minor": 2
}
